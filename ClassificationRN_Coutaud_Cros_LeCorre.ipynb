{
 "cells": [
  {
   "cell_type": "code",
   "execution_count": 112,
   "metadata": {},
   "outputs": [],
   "source": [
    "import pandas as pd\n",
    "import numpy as np\n",
    "from sklearn.model_selection import train_test_split\n",
    "from sklearn.metrics import classification_report, accuracy_score\n",
    "from sklearn.preprocessing import StandardScaler\n",
    "\n",
    "from imblearn.over_sampling import SMOTE\n",
    "from keras.models import Sequential\n",
    "from keras.layers import Dense \n",
    "\n"
   ]
  },
  {
   "cell_type": "markdown",
   "metadata": {},
   "source": [
    "# 1. Traitement des données "
   ]
  },
  {
   "cell_type": "markdown",
   "metadata": {},
   "source": [
    "Importation du jeu de données et division en données classe et caractéristique"
   ]
  },
  {
   "cell_type": "code",
   "execution_count": 192,
   "metadata": {},
   "outputs": [
    {
     "name": "stdout",
     "output_type": "stream",
     "text": [
      "   Taille_Auto   Poids_Auto  Acceleration  Annee_Fabrication    Kilometrage  \\\n",
      "0     3.790317  8869.946374      2.038688               2006  135542.067972   \n",
      "1     3.375892  1126.174079      2.067411               2010   33710.551662   \n",
      "2     4.844971  6100.019066      4.839676               2016  112977.279109   \n",
      "3     2.316172  5771.509867      1.202574               2014   50139.727635   \n",
      "4     2.618825  5676.666211      5.470806               2009  191188.750210   \n",
      "\n",
      "   Nombre_Portes  Vitesse_Max  Prix_Assurance  Categorie_Voiture    Decote  \\\n",
      "0              5   195.289066      184.125577                  1  0.104588   \n",
      "1              5   249.979656      858.935088                  3  0.346064   \n",
      "2              5   235.763320      302.138838                  4  0.394582   \n",
      "3              4   216.802020     1298.671966                  5  0.422048   \n",
      "4              4   234.004505      702.626517                  2  0.279959   \n",
      "\n",
      "   Impact_Environnement  \n",
      "0                     1  \n",
      "1                     1  \n",
      "2                     3  \n",
      "3                     2  \n",
      "4                     1  \n"
     ]
    }
   ],
   "source": [
    "dt = pd.read_csv(\"/Users/mallorylecorre/Desktop/Dm_Ia/cars_data-class.csv\")\n",
    "print(dt.head())\n",
    "\n",
    "X = dt.drop('Impact_Environnement', axis=1)\n",
    "y = dt['Impact_Environnement']"
   ]
  },
  {
   "cell_type": "markdown",
   "metadata": {},
   "source": [
    "Division du jeu de données en jeu test et jeu d'entrainement respectivement 20 % et 40 %. \"sratify=y\" permet de prendre le même nombre de données dans chaque classe pour être sur que toute les classes soient représentées dans le jeu d'entrainement."
   ]
  },
  {
   "cell_type": "code",
   "execution_count": 193,
   "metadata": {},
   "outputs": [],
   "source": [
    "X_train, X_test, y_train, y_test = train_test_split(X, y, test_size=0.2, random_state=42, stratify=y)\n"
   ]
  },
  {
   "cell_type": "markdown",
   "metadata": {},
   "source": [
    "On standardise les données pour mettre toute les variables à la même échelle."
   ]
  },
  {
   "cell_type": "code",
   "execution_count": 194,
   "metadata": {},
   "outputs": [],
   "source": [
    "scaler = StandardScaler()\n",
    "X_train = scaler.fit_transform(X_train)\n",
    "X_test = scaler.transform(X_test)"
   ]
  },
  {
   "cell_type": "markdown",
   "metadata": {},
   "source": [
    "Distribution des données :"
   ]
  },
  {
   "cell_type": "code",
   "execution_count": 195,
   "metadata": {},
   "outputs": [
    {
     "data": {
      "text/plain": [
       "1    537\n",
       "3    385\n",
       "2     42\n",
       "0     36\n",
       "Name: Impact_Environnement, dtype: int64"
      ]
     },
     "execution_count": 195,
     "metadata": {},
     "output_type": "execute_result"
    }
   ],
   "source": [
    "dt['Impact_Environnement'].value_counts()"
   ]
  },
  {
   "cell_type": "markdown",
   "metadata": {},
   "source": [
    "On peut voir que le jeu de données est déséquilibrée avec une sur-représentation de la classe 1."
   ]
  },
  {
   "cell_type": "markdown",
   "metadata": {},
   "source": [
    "On équilibre les données en sur-échantillonant avec SMOTE"
   ]
  },
  {
   "cell_type": "code",
   "execution_count": 196,
   "metadata": {},
   "outputs": [],
   "source": [
    "smote = SMOTE(random_state=42)\n",
    "X_train, y_train = smote.fit_resample(X_train, y_train)\n"
   ]
  },
  {
   "cell_type": "markdown",
   "metadata": {},
   "source": [
    "On vérifie que le rééquillibrage a bien fonctionné"
   ]
  },
  {
   "cell_type": "code",
   "execution_count": 197,
   "metadata": {},
   "outputs": [
    {
     "name": "stdout",
     "output_type": "stream",
     "text": [
      "Nouvelle distribution :\n",
      "1    430\n",
      "3    430\n",
      "2    430\n",
      "0    430\n",
      "Name: Impact_Environnement, dtype: int64\n"
     ]
    }
   ],
   "source": [
    "print(\"Nouvelle distribution :\")\n",
    "print(pd.Series(y_train).value_counts())"
   ]
  },
  {
   "cell_type": "markdown",
   "metadata": {},
   "source": [
    "Les données sont équilibrées"
   ]
  },
  {
   "cell_type": "markdown",
   "metadata": {},
   "source": [
    "# Création du modèle "
   ]
  },
  {
   "cell_type": "markdown",
   "metadata": {},
   "source": [
    "Création du modèle avec trois couches. Le modèle prend en input le nombre de caractéristiques avec la fonction \"X_train.shape[1]\". Le nombre de couche et le nombre de neurones par couches a été determiner en faisant plusieurs essais. Les combinaisons donnant les meilleurs résultats ont été gardé. Les foncitons relu et sigmoid ont été testé mais c'est relu qui était la plus efficace."
   ]
  },
  {
   "cell_type": "code",
   "execution_count": 198,
   "metadata": {},
   "outputs": [],
   "source": [
    "model = Sequential()\n",
    "model.add(Dense(60, input_dim=X_train.shape[1], activation='relu'))\n",
    "model.add(Dense(30, activation='relu'))\n",
    "model.add(Dense(4, activation='softmax'))\n",
    "\n"
   ]
  },
  {
   "cell_type": "markdown",
   "metadata": {},
   "source": [
    "compilation du modèle en tuilisant une fonction de perte qui correspond à une classification multi-class"
   ]
  },
  {
   "cell_type": "code",
   "execution_count": 199,
   "metadata": {},
   "outputs": [],
   "source": [
    "model.compile(optimizer='adam', loss='sparse_categorical_crossentropy', metrics=['accuracy'])\n"
   ]
  },
  {
   "cell_type": "markdown",
   "metadata": {},
   "source": [
    "Entrainement du modèle "
   ]
  },
  {
   "cell_type": "code",
   "execution_count": 200,
   "metadata": {},
   "outputs": [
    {
     "name": "stdout",
     "output_type": "stream",
     "text": [
      "Epoch 1/200\n",
      "35/35 [==============================] - 0s 3ms/step - loss: 1.2896 - accuracy: 0.4477 - val_loss: 1.4786 - val_accuracy: 0.1860\n",
      "Epoch 2/200\n",
      "35/35 [==============================] - 0s 1ms/step - loss: 1.1025 - accuracy: 0.6366 - val_loss: 1.2871 - val_accuracy: 0.3256\n",
      "Epoch 3/200\n",
      "35/35 [==============================] - 0s 908us/step - loss: 0.9131 - accuracy: 0.6999 - val_loss: 1.0994 - val_accuracy: 0.4099\n",
      "Epoch 4/200\n",
      "35/35 [==============================] - 0s 922us/step - loss: 0.7669 - accuracy: 0.7398 - val_loss: 0.9179 - val_accuracy: 0.5581\n",
      "Epoch 5/200\n",
      "35/35 [==============================] - 0s 938us/step - loss: 0.6755 - accuracy: 0.7936 - val_loss: 0.8963 - val_accuracy: 0.5727\n",
      "Epoch 6/200\n",
      "35/35 [==============================] - 0s 940us/step - loss: 0.6112 - accuracy: 0.8227 - val_loss: 0.8252 - val_accuracy: 0.6279\n",
      "Epoch 7/200\n",
      "35/35 [==============================] - 0s 957us/step - loss: 0.5581 - accuracy: 0.8401 - val_loss: 0.7989 - val_accuracy: 0.6802\n",
      "Epoch 8/200\n",
      "35/35 [==============================] - 0s 946us/step - loss: 0.5143 - accuracy: 0.8539 - val_loss: 0.6956 - val_accuracy: 0.7355\n",
      "Epoch 9/200\n",
      "35/35 [==============================] - 0s 956us/step - loss: 0.4737 - accuracy: 0.8648 - val_loss: 0.6238 - val_accuracy: 0.7674\n",
      "Epoch 10/200\n",
      "35/35 [==============================] - 0s 952us/step - loss: 0.4414 - accuracy: 0.8772 - val_loss: 0.6361 - val_accuracy: 0.7616\n",
      "Epoch 11/200\n",
      "35/35 [==============================] - 0s 947us/step - loss: 0.4121 - accuracy: 0.8844 - val_loss: 0.5316 - val_accuracy: 0.8140\n",
      "Epoch 12/200\n",
      "35/35 [==============================] - 0s 956us/step - loss: 0.3827 - accuracy: 0.8961 - val_loss: 0.5545 - val_accuracy: 0.8140\n",
      "Epoch 13/200\n",
      "35/35 [==============================] - 0s 996us/step - loss: 0.3590 - accuracy: 0.9012 - val_loss: 0.5104 - val_accuracy: 0.8198\n",
      "Epoch 14/200\n",
      "35/35 [==============================] - 0s 952us/step - loss: 0.3381 - accuracy: 0.9084 - val_loss: 0.4916 - val_accuracy: 0.8343\n",
      "Epoch 15/200\n",
      "35/35 [==============================] - 0s 921us/step - loss: 0.3202 - accuracy: 0.9070 - val_loss: 0.3802 - val_accuracy: 0.8924\n",
      "Epoch 16/200\n",
      "35/35 [==============================] - 0s 926us/step - loss: 0.3015 - accuracy: 0.9135 - val_loss: 0.3821 - val_accuracy: 0.8895\n",
      "Epoch 17/200\n",
      "35/35 [==============================] - 0s 931us/step - loss: 0.2882 - accuracy: 0.9230 - val_loss: 0.4142 - val_accuracy: 0.8808\n",
      "Epoch 18/200\n",
      "35/35 [==============================] - 0s 950us/step - loss: 0.2696 - accuracy: 0.9222 - val_loss: 0.3096 - val_accuracy: 0.9157\n",
      "Epoch 19/200\n",
      "35/35 [==============================] - 0s 966us/step - loss: 0.2620 - accuracy: 0.9295 - val_loss: 0.3351 - val_accuracy: 0.9070\n",
      "Epoch 20/200\n",
      "35/35 [==============================] - 0s 923us/step - loss: 0.2479 - accuracy: 0.9288 - val_loss: 0.3057 - val_accuracy: 0.9186\n",
      "Epoch 21/200\n",
      "35/35 [==============================] - 0s 2ms/step - loss: 0.2362 - accuracy: 0.9353 - val_loss: 0.2570 - val_accuracy: 0.9302\n",
      "Epoch 22/200\n",
      "35/35 [==============================] - 0s 1ms/step - loss: 0.2259 - accuracy: 0.9368 - val_loss: 0.2550 - val_accuracy: 0.9273\n",
      "Epoch 23/200\n",
      "35/35 [==============================] - 0s 1ms/step - loss: 0.2154 - accuracy: 0.9368 - val_loss: 0.2558 - val_accuracy: 0.9302\n",
      "Epoch 24/200\n",
      "35/35 [==============================] - 0s 1ms/step - loss: 0.2087 - accuracy: 0.9411 - val_loss: 0.2417 - val_accuracy: 0.9360\n",
      "Epoch 25/200\n",
      "35/35 [==============================] - 0s 1ms/step - loss: 0.1998 - accuracy: 0.9419 - val_loss: 0.2399 - val_accuracy: 0.9360\n",
      "Epoch 26/200\n",
      "35/35 [==============================] - 0s 1ms/step - loss: 0.1931 - accuracy: 0.9440 - val_loss: 0.2270 - val_accuracy: 0.9419\n",
      "Epoch 27/200\n",
      "35/35 [==============================] - 0s 988us/step - loss: 0.1848 - accuracy: 0.9462 - val_loss: 0.2107 - val_accuracy: 0.9535\n",
      "Epoch 28/200\n",
      "35/35 [==============================] - 0s 974us/step - loss: 0.1798 - accuracy: 0.9513 - val_loss: 0.2212 - val_accuracy: 0.9419\n",
      "Epoch 29/200\n",
      "35/35 [==============================] - 0s 983us/step - loss: 0.1735 - accuracy: 0.9528 - val_loss: 0.2267 - val_accuracy: 0.9477\n",
      "Epoch 30/200\n",
      "35/35 [==============================] - 0s 1ms/step - loss: 0.1671 - accuracy: 0.9513 - val_loss: 0.2079 - val_accuracy: 0.9477\n",
      "Epoch 31/200\n",
      "35/35 [==============================] - 0s 1ms/step - loss: 0.1613 - accuracy: 0.9557 - val_loss: 0.1954 - val_accuracy: 0.9564\n",
      "Epoch 32/200\n",
      "35/35 [==============================] - 0s 982us/step - loss: 0.1551 - accuracy: 0.9535 - val_loss: 0.2000 - val_accuracy: 0.9535\n",
      "Epoch 33/200\n",
      "35/35 [==============================] - 0s 978us/step - loss: 0.1513 - accuracy: 0.9557 - val_loss: 0.1829 - val_accuracy: 0.9622\n",
      "Epoch 34/200\n",
      "35/35 [==============================] - 0s 986us/step - loss: 0.1469 - accuracy: 0.9542 - val_loss: 0.1976 - val_accuracy: 0.9622\n",
      "Epoch 35/200\n",
      "35/35 [==============================] - 0s 974us/step - loss: 0.1427 - accuracy: 0.9593 - val_loss: 0.1729 - val_accuracy: 0.9651\n",
      "Epoch 36/200\n",
      "35/35 [==============================] - 0s 1ms/step - loss: 0.1387 - accuracy: 0.9535 - val_loss: 0.1742 - val_accuracy: 0.9651\n",
      "Epoch 37/200\n",
      "35/35 [==============================] - 0s 988us/step - loss: 0.1330 - accuracy: 0.9608 - val_loss: 0.1737 - val_accuracy: 0.9622\n",
      "Epoch 38/200\n",
      "35/35 [==============================] - 0s 1ms/step - loss: 0.1297 - accuracy: 0.9608 - val_loss: 0.1445 - val_accuracy: 0.9680\n",
      "Epoch 39/200\n",
      "35/35 [==============================] - 0s 960us/step - loss: 0.1244 - accuracy: 0.9608 - val_loss: 0.1541 - val_accuracy: 0.9709\n",
      "Epoch 40/200\n",
      "35/35 [==============================] - 0s 951us/step - loss: 0.1202 - accuracy: 0.9644 - val_loss: 0.1534 - val_accuracy: 0.9680\n",
      "Epoch 41/200\n",
      "35/35 [==============================] - 0s 958us/step - loss: 0.1180 - accuracy: 0.9673 - val_loss: 0.1474 - val_accuracy: 0.9680\n",
      "Epoch 42/200\n",
      "35/35 [==============================] - 0s 950us/step - loss: 0.1142 - accuracy: 0.9666 - val_loss: 0.1600 - val_accuracy: 0.9680\n",
      "Epoch 43/200\n",
      "35/35 [==============================] - 0s 1ms/step - loss: 0.1108 - accuracy: 0.9658 - val_loss: 0.1514 - val_accuracy: 0.9651\n",
      "Epoch 44/200\n",
      "35/35 [==============================] - 0s 1ms/step - loss: 0.1095 - accuracy: 0.9658 - val_loss: 0.1349 - val_accuracy: 0.9767\n",
      "Epoch 45/200\n",
      "35/35 [==============================] - 0s 976us/step - loss: 0.1013 - accuracy: 0.9746 - val_loss: 0.1487 - val_accuracy: 0.9680\n",
      "Epoch 46/200\n",
      "35/35 [==============================] - 0s 959us/step - loss: 0.0994 - accuracy: 0.9709 - val_loss: 0.1330 - val_accuracy: 0.9767\n",
      "Epoch 47/200\n",
      "35/35 [==============================] - 0s 958us/step - loss: 0.0959 - accuracy: 0.9767 - val_loss: 0.1322 - val_accuracy: 0.9738\n",
      "Epoch 48/200\n",
      "35/35 [==============================] - 0s 973us/step - loss: 0.0917 - accuracy: 0.9789 - val_loss: 0.1196 - val_accuracy: 0.9797\n",
      "Epoch 49/200\n",
      "35/35 [==============================] - 0s 947us/step - loss: 0.0901 - accuracy: 0.9767 - val_loss: 0.1396 - val_accuracy: 0.9709\n",
      "Epoch 50/200\n",
      "35/35 [==============================] - 0s 957us/step - loss: 0.0876 - accuracy: 0.9738 - val_loss: 0.1204 - val_accuracy: 0.9767\n",
      "Epoch 51/200\n",
      "35/35 [==============================] - 0s 922us/step - loss: 0.0878 - accuracy: 0.9789 - val_loss: 0.1037 - val_accuracy: 0.9797\n",
      "Epoch 52/200\n",
      "35/35 [==============================] - 0s 950us/step - loss: 0.0850 - accuracy: 0.9760 - val_loss: 0.1130 - val_accuracy: 0.9797\n",
      "Epoch 53/200\n",
      "35/35 [==============================] - 0s 947us/step - loss: 0.0801 - accuracy: 0.9811 - val_loss: 0.1262 - val_accuracy: 0.9797\n",
      "Epoch 54/200\n",
      "35/35 [==============================] - 0s 964us/step - loss: 0.0776 - accuracy: 0.9833 - val_loss: 0.1197 - val_accuracy: 0.9797\n",
      "Epoch 55/200\n",
      "35/35 [==============================] - 0s 980us/step - loss: 0.0746 - accuracy: 0.9818 - val_loss: 0.1107 - val_accuracy: 0.9797\n",
      "Epoch 56/200\n",
      "35/35 [==============================] - 0s 930us/step - loss: 0.0733 - accuracy: 0.9826 - val_loss: 0.1078 - val_accuracy: 0.9797\n",
      "Epoch 57/200\n",
      "35/35 [==============================] - 0s 945us/step - loss: 0.0708 - accuracy: 0.9840 - val_loss: 0.1145 - val_accuracy: 0.9797\n",
      "Epoch 58/200\n",
      "35/35 [==============================] - 0s 970us/step - loss: 0.0686 - accuracy: 0.9869 - val_loss: 0.1095 - val_accuracy: 0.9826\n",
      "Epoch 59/200\n",
      "35/35 [==============================] - 0s 953us/step - loss: 0.0688 - accuracy: 0.9862 - val_loss: 0.0947 - val_accuracy: 0.9797\n",
      "Epoch 60/200\n",
      "35/35 [==============================] - 0s 1ms/step - loss: 0.0636 - accuracy: 0.9869 - val_loss: 0.1118 - val_accuracy: 0.9826\n",
      "Epoch 61/200\n",
      "35/35 [==============================] - 0s 953us/step - loss: 0.0631 - accuracy: 0.9884 - val_loss: 0.0965 - val_accuracy: 0.9797\n",
      "Epoch 62/200\n",
      "35/35 [==============================] - 0s 966us/step - loss: 0.0606 - accuracy: 0.9855 - val_loss: 0.0997 - val_accuracy: 0.9797\n",
      "Epoch 63/200\n",
      "35/35 [==============================] - 0s 1ms/step - loss: 0.0603 - accuracy: 0.9876 - val_loss: 0.1082 - val_accuracy: 0.9826\n",
      "Epoch 64/200\n",
      "35/35 [==============================] - 0s 989us/step - loss: 0.0579 - accuracy: 0.9898 - val_loss: 0.0891 - val_accuracy: 0.9797\n",
      "Epoch 65/200\n",
      "35/35 [==============================] - 0s 992us/step - loss: 0.0566 - accuracy: 0.9869 - val_loss: 0.0978 - val_accuracy: 0.9797\n",
      "Epoch 66/200\n",
      "35/35 [==============================] - 0s 955us/step - loss: 0.0546 - accuracy: 0.9898 - val_loss: 0.0990 - val_accuracy: 0.9826\n",
      "Epoch 67/200\n",
      "35/35 [==============================] - 0s 917us/step - loss: 0.0527 - accuracy: 0.9884 - val_loss: 0.1008 - val_accuracy: 0.9855\n",
      "Epoch 68/200\n",
      "35/35 [==============================] - 0s 931us/step - loss: 0.0525 - accuracy: 0.9927 - val_loss: 0.1024 - val_accuracy: 0.9797\n",
      "Epoch 69/200\n",
      "35/35 [==============================] - 0s 922us/step - loss: 0.0495 - accuracy: 0.9898 - val_loss: 0.1075 - val_accuracy: 0.9855\n",
      "Epoch 70/200\n",
      "35/35 [==============================] - 0s 929us/step - loss: 0.0495 - accuracy: 0.9913 - val_loss: 0.1022 - val_accuracy: 0.9855\n",
      "Epoch 71/200\n",
      "35/35 [==============================] - 0s 915us/step - loss: 0.0467 - accuracy: 0.9927 - val_loss: 0.0948 - val_accuracy: 0.9855\n",
      "Epoch 72/200\n",
      "35/35 [==============================] - 0s 2ms/step - loss: 0.0452 - accuracy: 0.9949 - val_loss: 0.0855 - val_accuracy: 0.9826\n",
      "Epoch 73/200\n",
      "35/35 [==============================] - 0s 922us/step - loss: 0.0441 - accuracy: 0.9913 - val_loss: 0.0944 - val_accuracy: 0.9855\n",
      "Epoch 74/200\n",
      "35/35 [==============================] - 0s 949us/step - loss: 0.0425 - accuracy: 0.9935 - val_loss: 0.0821 - val_accuracy: 0.9855\n",
      "Epoch 75/200\n",
      "35/35 [==============================] - 0s 932us/step - loss: 0.0410 - accuracy: 0.9942 - val_loss: 0.0809 - val_accuracy: 0.9855\n",
      "Epoch 76/200\n",
      "35/35 [==============================] - 0s 921us/step - loss: 0.0395 - accuracy: 0.9949 - val_loss: 0.0938 - val_accuracy: 0.9855\n",
      "Epoch 77/200\n",
      "35/35 [==============================] - 0s 954us/step - loss: 0.0387 - accuracy: 0.9949 - val_loss: 0.0947 - val_accuracy: 0.9855\n",
      "Epoch 78/200\n",
      "35/35 [==============================] - 0s 953us/step - loss: 0.0380 - accuracy: 0.9942 - val_loss: 0.0751 - val_accuracy: 0.9884\n",
      "Epoch 79/200\n",
      "35/35 [==============================] - 0s 938us/step - loss: 0.0379 - accuracy: 0.9949 - val_loss: 0.0832 - val_accuracy: 0.9855\n",
      "Epoch 80/200\n",
      "35/35 [==============================] - 0s 951us/step - loss: 0.0352 - accuracy: 0.9971 - val_loss: 0.0796 - val_accuracy: 0.9855\n",
      "Epoch 81/200\n",
      "35/35 [==============================] - 0s 1ms/step - loss: 0.0340 - accuracy: 0.9964 - val_loss: 0.0871 - val_accuracy: 0.9855\n",
      "Epoch 82/200\n",
      "35/35 [==============================] - 0s 942us/step - loss: 0.0339 - accuracy: 0.9949 - val_loss: 0.0909 - val_accuracy: 0.9855\n",
      "Epoch 83/200\n",
      "35/35 [==============================] - 0s 924us/step - loss: 0.0338 - accuracy: 0.9956 - val_loss: 0.0847 - val_accuracy: 0.9855\n",
      "Epoch 84/200\n",
      "35/35 [==============================] - 0s 936us/step - loss: 0.0321 - accuracy: 0.9971 - val_loss: 0.0810 - val_accuracy: 0.9855\n",
      "Epoch 85/200\n",
      "35/35 [==============================] - 0s 917us/step - loss: 0.0304 - accuracy: 0.9964 - val_loss: 0.0813 - val_accuracy: 0.9855\n",
      "Epoch 86/200\n",
      "35/35 [==============================] - 0s 923us/step - loss: 0.0294 - accuracy: 0.9971 - val_loss: 0.0784 - val_accuracy: 0.9855\n",
      "Epoch 87/200\n",
      "35/35 [==============================] - 0s 912us/step - loss: 0.0288 - accuracy: 0.9971 - val_loss: 0.0749 - val_accuracy: 0.9855\n",
      "Epoch 88/200\n",
      "35/35 [==============================] - 0s 958us/step - loss: 0.0281 - accuracy: 0.9985 - val_loss: 0.0862 - val_accuracy: 0.9855\n",
      "Epoch 89/200\n",
      "35/35 [==============================] - 0s 989us/step - loss: 0.0281 - accuracy: 0.9956 - val_loss: 0.0735 - val_accuracy: 0.9855\n",
      "Epoch 90/200\n",
      "35/35 [==============================] - 0s 1ms/step - loss: 0.0262 - accuracy: 0.9971 - val_loss: 0.0774 - val_accuracy: 0.9855\n",
      "Epoch 91/200\n",
      "35/35 [==============================] - 0s 1ms/step - loss: 0.0255 - accuracy: 0.9978 - val_loss: 0.0724 - val_accuracy: 0.9855\n",
      "Epoch 92/200\n",
      "35/35 [==============================] - 0s 994us/step - loss: 0.0244 - accuracy: 0.9985 - val_loss: 0.0743 - val_accuracy: 0.9855\n",
      "Epoch 93/200\n",
      "35/35 [==============================] - 0s 940us/step - loss: 0.0243 - accuracy: 0.9985 - val_loss: 0.0637 - val_accuracy: 0.9884\n",
      "Epoch 94/200\n",
      "35/35 [==============================] - 0s 1ms/step - loss: 0.0240 - accuracy: 0.9971 - val_loss: 0.0796 - val_accuracy: 0.9855\n",
      "Epoch 95/200\n",
      "35/35 [==============================] - 0s 1ms/step - loss: 0.0232 - accuracy: 0.9978 - val_loss: 0.0733 - val_accuracy: 0.9884\n",
      "Epoch 96/200\n",
      "35/35 [==============================] - 0s 989us/step - loss: 0.0224 - accuracy: 0.9978 - val_loss: 0.0709 - val_accuracy: 0.9884\n",
      "Epoch 97/200\n",
      "35/35 [==============================] - 0s 953us/step - loss: 0.0214 - accuracy: 0.9978 - val_loss: 0.0779 - val_accuracy: 0.9855\n",
      "Epoch 98/200\n",
      "35/35 [==============================] - 0s 971us/step - loss: 0.0210 - accuracy: 0.9978 - val_loss: 0.0760 - val_accuracy: 0.9855\n",
      "Epoch 99/200\n",
      "35/35 [==============================] - 0s 928us/step - loss: 0.0197 - accuracy: 0.9985 - val_loss: 0.0757 - val_accuracy: 0.9855\n",
      "Epoch 100/200\n",
      "35/35 [==============================] - 0s 978us/step - loss: 0.0192 - accuracy: 0.9985 - val_loss: 0.0688 - val_accuracy: 0.9884\n",
      "Epoch 101/200\n",
      "35/35 [==============================] - 0s 930us/step - loss: 0.0194 - accuracy: 0.9978 - val_loss: 0.0751 - val_accuracy: 0.9855\n",
      "Epoch 102/200\n",
      "35/35 [==============================] - 0s 942us/step - loss: 0.0182 - accuracy: 0.9985 - val_loss: 0.0668 - val_accuracy: 0.9884\n",
      "Epoch 103/200\n",
      "35/35 [==============================] - 0s 953us/step - loss: 0.0181 - accuracy: 0.9985 - val_loss: 0.0713 - val_accuracy: 0.9855\n",
      "Epoch 104/200\n",
      "35/35 [==============================] - 0s 987us/step - loss: 0.0171 - accuracy: 0.9985 - val_loss: 0.0714 - val_accuracy: 0.9884\n",
      "Epoch 105/200\n",
      "35/35 [==============================] - 0s 952us/step - loss: 0.0170 - accuracy: 0.9978 - val_loss: 0.0729 - val_accuracy: 0.9855\n",
      "Epoch 106/200\n",
      "35/35 [==============================] - 0s 943us/step - loss: 0.0172 - accuracy: 0.9985 - val_loss: 0.0741 - val_accuracy: 0.9855\n",
      "Epoch 107/200\n",
      "35/35 [==============================] - 0s 946us/step - loss: 0.0159 - accuracy: 0.9993 - val_loss: 0.0718 - val_accuracy: 0.9855\n",
      "Epoch 108/200\n",
      "35/35 [==============================] - 0s 928us/step - loss: 0.0151 - accuracy: 1.0000 - val_loss: 0.0681 - val_accuracy: 0.9855\n",
      "Epoch 109/200\n",
      "35/35 [==============================] - 0s 930us/step - loss: 0.0149 - accuracy: 1.0000 - val_loss: 0.0741 - val_accuracy: 0.9855\n",
      "Epoch 110/200\n",
      "35/35 [==============================] - 0s 951us/step - loss: 0.0143 - accuracy: 1.0000 - val_loss: 0.0722 - val_accuracy: 0.9884\n",
      "Epoch 111/200\n",
      "35/35 [==============================] - 0s 940us/step - loss: 0.0140 - accuracy: 0.9993 - val_loss: 0.0705 - val_accuracy: 0.9855\n",
      "Epoch 112/200\n",
      "35/35 [==============================] - 0s 944us/step - loss: 0.0137 - accuracy: 0.9993 - val_loss: 0.0742 - val_accuracy: 0.9855\n",
      "Epoch 113/200\n",
      "35/35 [==============================] - 0s 958us/step - loss: 0.0134 - accuracy: 1.0000 - val_loss: 0.0749 - val_accuracy: 0.9855\n",
      "Epoch 114/200\n",
      "35/35 [==============================] - 0s 955us/step - loss: 0.0129 - accuracy: 1.0000 - val_loss: 0.0695 - val_accuracy: 0.9855\n",
      "Epoch 115/200\n",
      "35/35 [==============================] - 0s 2ms/step - loss: 0.0122 - accuracy: 1.0000 - val_loss: 0.0731 - val_accuracy: 0.9855\n",
      "Epoch 116/200\n",
      "35/35 [==============================] - 0s 1ms/step - loss: 0.0122 - accuracy: 1.0000 - val_loss: 0.0683 - val_accuracy: 0.9884\n",
      "Epoch 117/200\n",
      "35/35 [==============================] - 0s 1ms/step - loss: 0.0117 - accuracy: 1.0000 - val_loss: 0.0678 - val_accuracy: 0.9884\n",
      "Epoch 118/200\n",
      "35/35 [==============================] - 0s 1ms/step - loss: 0.0114 - accuracy: 1.0000 - val_loss: 0.0689 - val_accuracy: 0.9855\n",
      "Epoch 119/200\n",
      "35/35 [==============================] - 0s 961us/step - loss: 0.0109 - accuracy: 1.0000 - val_loss: 0.0674 - val_accuracy: 0.9884\n",
      "Epoch 120/200\n",
      "35/35 [==============================] - 0s 936us/step - loss: 0.0105 - accuracy: 1.0000 - val_loss: 0.0662 - val_accuracy: 0.9884\n",
      "Epoch 121/200\n",
      "35/35 [==============================] - 0s 933us/step - loss: 0.0108 - accuracy: 0.9993 - val_loss: 0.0739 - val_accuracy: 0.9884\n",
      "Epoch 122/200\n",
      "35/35 [==============================] - 0s 962us/step - loss: 0.0104 - accuracy: 1.0000 - val_loss: 0.0692 - val_accuracy: 0.9884\n",
      "Epoch 123/200\n",
      "35/35 [==============================] - 0s 935us/step - loss: 0.0097 - accuracy: 1.0000 - val_loss: 0.0656 - val_accuracy: 0.9884\n",
      "Epoch 124/200\n",
      "35/35 [==============================] - 0s 934us/step - loss: 0.0093 - accuracy: 1.0000 - val_loss: 0.0732 - val_accuracy: 0.9855\n",
      "Epoch 125/200\n",
      "35/35 [==============================] - 0s 955us/step - loss: 0.0092 - accuracy: 1.0000 - val_loss: 0.0709 - val_accuracy: 0.9855\n",
      "Epoch 126/200\n",
      "35/35 [==============================] - 0s 943us/step - loss: 0.0089 - accuracy: 1.0000 - val_loss: 0.0734 - val_accuracy: 0.9855\n",
      "Epoch 127/200\n",
      "35/35 [==============================] - 0s 924us/step - loss: 0.0087 - accuracy: 1.0000 - val_loss: 0.0695 - val_accuracy: 0.9884\n",
      "Epoch 128/200\n",
      "35/35 [==============================] - 0s 914us/step - loss: 0.0085 - accuracy: 1.0000 - val_loss: 0.0704 - val_accuracy: 0.9855\n",
      "Epoch 129/200\n",
      "35/35 [==============================] - 0s 943us/step - loss: 0.0081 - accuracy: 1.0000 - val_loss: 0.0669 - val_accuracy: 0.9884\n",
      "Epoch 130/200\n",
      "35/35 [==============================] - 0s 956us/step - loss: 0.0080 - accuracy: 1.0000 - val_loss: 0.0669 - val_accuracy: 0.9884\n",
      "Epoch 131/200\n",
      "35/35 [==============================] - 0s 955us/step - loss: 0.0081 - accuracy: 1.0000 - val_loss: 0.0644 - val_accuracy: 0.9884\n",
      "Epoch 132/200\n",
      "35/35 [==============================] - 0s 931us/step - loss: 0.0075 - accuracy: 1.0000 - val_loss: 0.0707 - val_accuracy: 0.9884\n",
      "Epoch 133/200\n",
      "35/35 [==============================] - 0s 931us/step - loss: 0.0073 - accuracy: 1.0000 - val_loss: 0.0682 - val_accuracy: 0.9884\n",
      "Epoch 134/200\n",
      "35/35 [==============================] - 0s 949us/step - loss: 0.0072 - accuracy: 1.0000 - val_loss: 0.0726 - val_accuracy: 0.9884\n",
      "Epoch 135/200\n",
      "35/35 [==============================] - 0s 982us/step - loss: 0.0068 - accuracy: 1.0000 - val_loss: 0.0705 - val_accuracy: 0.9884\n",
      "Epoch 136/200\n",
      "35/35 [==============================] - 0s 936us/step - loss: 0.0068 - accuracy: 1.0000 - val_loss: 0.0697 - val_accuracy: 0.9884\n",
      "Epoch 137/200\n",
      "35/35 [==============================] - 0s 2ms/step - loss: 0.0065 - accuracy: 1.0000 - val_loss: 0.0709 - val_accuracy: 0.9884\n",
      "Epoch 138/200\n",
      "35/35 [==============================] - 0s 1ms/step - loss: 0.0063 - accuracy: 1.0000 - val_loss: 0.0705 - val_accuracy: 0.9884\n",
      "Epoch 139/200\n",
      "35/35 [==============================] - 0s 969us/step - loss: 0.0061 - accuracy: 1.0000 - val_loss: 0.0715 - val_accuracy: 0.9884\n",
      "Epoch 140/200\n",
      "35/35 [==============================] - 0s 928us/step - loss: 0.0061 - accuracy: 1.0000 - val_loss: 0.0684 - val_accuracy: 0.9884\n",
      "Epoch 141/200\n",
      "35/35 [==============================] - 0s 924us/step - loss: 0.0057 - accuracy: 1.0000 - val_loss: 0.0695 - val_accuracy: 0.9884\n",
      "Epoch 142/200\n",
      "35/35 [==============================] - 0s 966us/step - loss: 0.0055 - accuracy: 1.0000 - val_loss: 0.0730 - val_accuracy: 0.9884\n",
      "Epoch 143/200\n",
      "35/35 [==============================] - 0s 968us/step - loss: 0.0053 - accuracy: 1.0000 - val_loss: 0.0656 - val_accuracy: 0.9884\n",
      "Epoch 144/200\n",
      "35/35 [==============================] - 0s 927us/step - loss: 0.0055 - accuracy: 1.0000 - val_loss: 0.0663 - val_accuracy: 0.9884\n",
      "Epoch 145/200\n",
      "35/35 [==============================] - 0s 926us/step - loss: 0.0053 - accuracy: 1.0000 - val_loss: 0.0690 - val_accuracy: 0.9884\n",
      "Epoch 146/200\n",
      "35/35 [==============================] - 0s 985us/step - loss: 0.0050 - accuracy: 1.0000 - val_loss: 0.0685 - val_accuracy: 0.9884\n",
      "Epoch 147/200\n",
      "35/35 [==============================] - 0s 937us/step - loss: 0.0048 - accuracy: 1.0000 - val_loss: 0.0699 - val_accuracy: 0.9884\n",
      "Epoch 148/200\n",
      "35/35 [==============================] - 0s 971us/step - loss: 0.0047 - accuracy: 1.0000 - val_loss: 0.0695 - val_accuracy: 0.9884\n",
      "Epoch 149/200\n",
      "35/35 [==============================] - 0s 968us/step - loss: 0.0046 - accuracy: 1.0000 - val_loss: 0.0759 - val_accuracy: 0.9884\n",
      "Epoch 150/200\n",
      "35/35 [==============================] - 0s 953us/step - loss: 0.0047 - accuracy: 1.0000 - val_loss: 0.0728 - val_accuracy: 0.9884\n",
      "Epoch 151/200\n",
      "35/35 [==============================] - 0s 925us/step - loss: 0.0045 - accuracy: 1.0000 - val_loss: 0.0702 - val_accuracy: 0.9884\n",
      "Epoch 152/200\n",
      "35/35 [==============================] - 0s 947us/step - loss: 0.0043 - accuracy: 1.0000 - val_loss: 0.0723 - val_accuracy: 0.9884\n",
      "Epoch 153/200\n",
      "35/35 [==============================] - 0s 933us/step - loss: 0.0041 - accuracy: 1.0000 - val_loss: 0.0692 - val_accuracy: 0.9884\n",
      "Epoch 154/200\n",
      "35/35 [==============================] - 0s 924us/step - loss: 0.0041 - accuracy: 1.0000 - val_loss: 0.0702 - val_accuracy: 0.9884\n",
      "Epoch 155/200\n",
      "35/35 [==============================] - 0s 949us/step - loss: 0.0039 - accuracy: 1.0000 - val_loss: 0.0696 - val_accuracy: 0.9884\n",
      "Epoch 156/200\n",
      "35/35 [==============================] - 0s 943us/step - loss: 0.0039 - accuracy: 1.0000 - val_loss: 0.0703 - val_accuracy: 0.9884\n",
      "Epoch 157/200\n",
      "35/35 [==============================] - 0s 1ms/step - loss: 0.0038 - accuracy: 1.0000 - val_loss: 0.0645 - val_accuracy: 0.9884\n",
      "Epoch 158/200\n",
      "35/35 [==============================] - 0s 1ms/step - loss: 0.0037 - accuracy: 1.0000 - val_loss: 0.0704 - val_accuracy: 0.9884\n",
      "Epoch 159/200\n",
      "35/35 [==============================] - 0s 1ms/step - loss: 0.0035 - accuracy: 1.0000 - val_loss: 0.0674 - val_accuracy: 0.9884\n",
      "Epoch 160/200\n",
      "35/35 [==============================] - 0s 1ms/step - loss: 0.0035 - accuracy: 1.0000 - val_loss: 0.0695 - val_accuracy: 0.9884\n",
      "Epoch 161/200\n",
      "35/35 [==============================] - 0s 1ms/step - loss: 0.0033 - accuracy: 1.0000 - val_loss: 0.0707 - val_accuracy: 0.9884\n",
      "Epoch 162/200\n",
      "35/35 [==============================] - 0s 1ms/step - loss: 0.0033 - accuracy: 1.0000 - val_loss: 0.0706 - val_accuracy: 0.9884\n",
      "Epoch 163/200\n",
      "35/35 [==============================] - 0s 1ms/step - loss: 0.0032 - accuracy: 1.0000 - val_loss: 0.0737 - val_accuracy: 0.9884\n",
      "Epoch 164/200\n",
      "35/35 [==============================] - 0s 1ms/step - loss: 0.0030 - accuracy: 1.0000 - val_loss: 0.0727 - val_accuracy: 0.9884\n",
      "Epoch 165/200\n",
      "35/35 [==============================] - 0s 957us/step - loss: 0.0030 - accuracy: 1.0000 - val_loss: 0.0679 - val_accuracy: 0.9884\n",
      "Epoch 166/200\n",
      "35/35 [==============================] - 0s 913us/step - loss: 0.0030 - accuracy: 1.0000 - val_loss: 0.0700 - val_accuracy: 0.9884\n",
      "Epoch 167/200\n",
      "35/35 [==============================] - 0s 979us/step - loss: 0.0029 - accuracy: 1.0000 - val_loss: 0.0717 - val_accuracy: 0.9884\n",
      "Epoch 168/200\n",
      "35/35 [==============================] - 0s 954us/step - loss: 0.0028 - accuracy: 1.0000 - val_loss: 0.0686 - val_accuracy: 0.9884\n",
      "Epoch 169/200\n",
      "35/35 [==============================] - 0s 962us/step - loss: 0.0028 - accuracy: 1.0000 - val_loss: 0.0704 - val_accuracy: 0.9884\n",
      "Epoch 170/200\n",
      "35/35 [==============================] - 0s 961us/step - loss: 0.0027 - accuracy: 1.0000 - val_loss: 0.0716 - val_accuracy: 0.9884\n",
      "Epoch 171/200\n",
      "35/35 [==============================] - 0s 953us/step - loss: 0.0026 - accuracy: 1.0000 - val_loss: 0.0710 - val_accuracy: 0.9884\n",
      "Epoch 172/200\n",
      "35/35 [==============================] - 0s 972us/step - loss: 0.0025 - accuracy: 1.0000 - val_loss: 0.0730 - val_accuracy: 0.9884\n",
      "Epoch 173/200\n",
      "35/35 [==============================] - 0s 944us/step - loss: 0.0025 - accuracy: 1.0000 - val_loss: 0.0728 - val_accuracy: 0.9884\n",
      "Epoch 174/200\n",
      "35/35 [==============================] - 0s 968us/step - loss: 0.0024 - accuracy: 1.0000 - val_loss: 0.0695 - val_accuracy: 0.9884\n",
      "Epoch 175/200\n",
      "35/35 [==============================] - 0s 985us/step - loss: 0.0024 - accuracy: 1.0000 - val_loss: 0.0701 - val_accuracy: 0.9884\n",
      "Epoch 176/200\n",
      "35/35 [==============================] - 0s 957us/step - loss: 0.0023 - accuracy: 1.0000 - val_loss: 0.0730 - val_accuracy: 0.9884\n",
      "Epoch 177/200\n",
      "35/35 [==============================] - 0s 953us/step - loss: 0.0022 - accuracy: 1.0000 - val_loss: 0.0741 - val_accuracy: 0.9884\n",
      "Epoch 178/200\n",
      "35/35 [==============================] - 0s 2ms/step - loss: 0.0021 - accuracy: 1.0000 - val_loss: 0.0698 - val_accuracy: 0.9884\n",
      "Epoch 179/200\n",
      "35/35 [==============================] - 0s 1ms/step - loss: 0.0021 - accuracy: 1.0000 - val_loss: 0.0712 - val_accuracy: 0.9884\n",
      "Epoch 180/200\n",
      "35/35 [==============================] - 0s 1ms/step - loss: 0.0020 - accuracy: 1.0000 - val_loss: 0.0754 - val_accuracy: 0.9884\n",
      "Epoch 181/200\n",
      "35/35 [==============================] - 0s 990us/step - loss: 0.0020 - accuracy: 1.0000 - val_loss: 0.0742 - val_accuracy: 0.9884\n",
      "Epoch 182/200\n",
      "35/35 [==============================] - 0s 1ms/step - loss: 0.0020 - accuracy: 1.0000 - val_loss: 0.0712 - val_accuracy: 0.9884\n",
      "Epoch 183/200\n",
      "35/35 [==============================] - 0s 1ms/step - loss: 0.0019 - accuracy: 1.0000 - val_loss: 0.0730 - val_accuracy: 0.9884\n",
      "Epoch 184/200\n",
      "35/35 [==============================] - 0s 1ms/step - loss: 0.0019 - accuracy: 1.0000 - val_loss: 0.0694 - val_accuracy: 0.9884\n",
      "Epoch 185/200\n",
      "35/35 [==============================] - 0s 1ms/step - loss: 0.0018 - accuracy: 1.0000 - val_loss: 0.0759 - val_accuracy: 0.9884\n",
      "Epoch 186/200\n",
      "35/35 [==============================] - 0s 997us/step - loss: 0.0018 - accuracy: 1.0000 - val_loss: 0.0709 - val_accuracy: 0.9884\n",
      "Epoch 187/200\n",
      "35/35 [==============================] - 0s 971us/step - loss: 0.0018 - accuracy: 1.0000 - val_loss: 0.0736 - val_accuracy: 0.9884\n",
      "Epoch 188/200\n",
      "35/35 [==============================] - 0s 942us/step - loss: 0.0017 - accuracy: 1.0000 - val_loss: 0.0767 - val_accuracy: 0.9884\n",
      "Epoch 189/200\n",
      "35/35 [==============================] - 0s 964us/step - loss: 0.0016 - accuracy: 1.0000 - val_loss: 0.0741 - val_accuracy: 0.9884\n",
      "Epoch 190/200\n",
      "35/35 [==============================] - 0s 945us/step - loss: 0.0016 - accuracy: 1.0000 - val_loss: 0.0715 - val_accuracy: 0.9884\n",
      "Epoch 191/200\n",
      "35/35 [==============================] - 0s 969us/step - loss: 0.0016 - accuracy: 1.0000 - val_loss: 0.0750 - val_accuracy: 0.9884\n",
      "Epoch 192/200\n",
      "35/35 [==============================] - 0s 918us/step - loss: 0.0015 - accuracy: 1.0000 - val_loss: 0.0714 - val_accuracy: 0.9884\n",
      "Epoch 193/200\n",
      "35/35 [==============================] - 0s 929us/step - loss: 0.0015 - accuracy: 1.0000 - val_loss: 0.0737 - val_accuracy: 0.9884\n",
      "Epoch 194/200\n",
      "35/35 [==============================] - 0s 916us/step - loss: 0.0014 - accuracy: 1.0000 - val_loss: 0.0709 - val_accuracy: 0.9884\n",
      "Epoch 195/200\n",
      "35/35 [==============================] - 0s 959us/step - loss: 0.0014 - accuracy: 1.0000 - val_loss: 0.0737 - val_accuracy: 0.9884\n",
      "Epoch 196/200\n",
      "35/35 [==============================] - 0s 970us/step - loss: 0.0014 - accuracy: 1.0000 - val_loss: 0.0760 - val_accuracy: 0.9884\n",
      "Epoch 197/200\n",
      "35/35 [==============================] - 0s 979us/step - loss: 0.0014 - accuracy: 1.0000 - val_loss: 0.0760 - val_accuracy: 0.9884\n",
      "Epoch 198/200\n",
      "35/35 [==============================] - 0s 953us/step - loss: 0.0014 - accuracy: 1.0000 - val_loss: 0.0730 - val_accuracy: 0.9884\n",
      "Epoch 199/200\n",
      "35/35 [==============================] - 0s 946us/step - loss: 0.0013 - accuracy: 1.0000 - val_loss: 0.0787 - val_accuracy: 0.9884\n",
      "Epoch 200/200\n",
      "35/35 [==============================] - 0s 957us/step - loss: 0.0013 - accuracy: 1.0000 - val_loss: 0.0714 - val_accuracy: 0.9884\n"
     ]
    },
    {
     "data": {
      "text/plain": [
       "<keras.src.callbacks.History at 0x15cfa9940>"
      ]
     },
     "execution_count": 200,
     "metadata": {},
     "output_type": "execute_result"
    }
   ],
   "source": [
    "model.fit(X_train, y_train, epochs=200, batch_size=40, validation_split=0.2)\n"
   ]
  },
  {
   "cell_type": "markdown",
   "metadata": {},
   "source": [
    "# Evaluation du modèle"
   ]
  },
  {
   "cell_type": "code",
   "execution_count": 201,
   "metadata": {},
   "outputs": [
    {
     "name": "stdout",
     "output_type": "stream",
     "text": [
      "7/7 [==============================] - 0s 481us/step\n",
      "Accuracy: 0.815\n"
     ]
    }
   ],
   "source": [
    "y_pred_probabilities = model.predict(X_test)\n",
    "y_pred = np.argmax(y_pred_probabilities, axis=1)\n",
    "\n",
    "accuracy = accuracy_score(y_test, y_pred)\n",
    "print(f\"Accuracy: {accuracy}\")"
   ]
  },
  {
   "cell_type": "markdown",
   "metadata": {},
   "source": [
    "on a une accuracy de 0.83"
   ]
  },
  {
   "cell_type": "code",
   "execution_count": 202,
   "metadata": {},
   "outputs": [
    {
     "name": "stdout",
     "output_type": "stream",
     "text": [
      "\n",
      "Classification Report:\n",
      "              precision    recall  f1-score   support\n",
      "\n",
      "           0       0.25      0.29      0.27         7\n",
      "           1       0.90      0.85      0.88       107\n",
      "           2       0.21      0.33      0.26         9\n",
      "           3       0.87      0.87      0.87        77\n",
      "\n",
      "    accuracy                           0.81       200\n",
      "   macro avg       0.56      0.58      0.57       200\n",
      "weighted avg       0.84      0.81      0.82       200\n",
      "\n"
     ]
    }
   ],
   "source": [
    "print(\"\\nClassification Report:\")\n",
    "print(classification_report(y_test, y_pred))"
   ]
  },
  {
   "cell_type": "markdown",
   "metadata": {},
   "source": [
    "On peut voir que les classes qui sont sous-représentées dans le jeu de données de bases (la classe 2 et 0) sont celles avec les moins bon résultats."
   ]
  }
 ],
 "metadata": {
  "kernelspec": {
   "display_name": "Python 3",
   "language": "python",
   "name": "python3"
  },
  "language_info": {
   "codemirror_mode": {
    "name": "ipython",
    "version": 3
   },
   "file_extension": ".py",
   "mimetype": "text/x-python",
   "name": "python",
   "nbconvert_exporter": "python",
   "pygments_lexer": "ipython3",
   "version": "3.9.6"
  }
 },
 "nbformat": 4,
 "nbformat_minor": 2
}
