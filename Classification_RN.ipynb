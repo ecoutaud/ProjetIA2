{
 "cells": [
  {
   "cell_type": "code",
   "execution_count": 61,
   "metadata": {},
   "outputs": [],
   "source": [
    "import pandas as pd\n",
    "import numpy as np\n",
    "from sklearn.model_selection import train_test_split\n",
    "from sklearn.metrics import confusion_matrix, classification_report, accuracy_score, f1_score\n",
    "from sklearn.model_selection import cross_val_score, StratifiedKFold\n",
    "from sklearn.preprocessing import StandardScaler\n",
    "\n",
    "from imblearn.over_sampling import SMOTE\n",
    "from keras.models import Sequential\n",
    "from keras.layers import Dense, Dropout\n",
    "from keras.utils import to_categorical\n",
    "import matplotlib.pyplot as plt\n",
    "import seaborn as sns\n",
    "\n",
    "\n"
   ]
  },
  {
   "cell_type": "markdown",
   "metadata": {},
   "source": [
    "# 1. Traitement des données "
   ]
  },
  {
   "cell_type": "markdown",
   "metadata": {},
   "source": [
    "Importation du jeu de données et division en données classe et caractéristique"
   ]
  },
  {
   "cell_type": "code",
   "execution_count": 62,
   "metadata": {},
   "outputs": [
    {
     "name": "stdout",
     "output_type": "stream",
     "text": [
      "   Taille_Auto   Poids_Auto  Acceleration  Annee_Fabrication    Kilometrage  \\\n",
      "0     3.790317  8869.946374      2.038688               2006  135542.067972   \n",
      "1     3.375892  1126.174079      2.067411               2010   33710.551662   \n",
      "2     4.844971  6100.019066      4.839676               2016  112977.279109   \n",
      "3     2.316172  5771.509867      1.202574               2014   50139.727635   \n",
      "4     2.618825  5676.666211      5.470806               2009  191188.750210   \n",
      "\n",
      "   Nombre_Portes  Vitesse_Max  Prix_Assurance  Categorie_Voiture    Decote  \\\n",
      "0              5   195.289066      184.125577                  1  0.104588   \n",
      "1              5   249.979656      858.935088                  3  0.346064   \n",
      "2              5   235.763320      302.138838                  4  0.394582   \n",
      "3              4   216.802020     1298.671966                  5  0.422048   \n",
      "4              4   234.004505      702.626517                  2  0.279959   \n",
      "\n",
      "   Impact_Environnement  \n",
      "0                     1  \n",
      "1                     1  \n",
      "2                     3  \n",
      "3                     2  \n",
      "4                     1  \n"
     ]
    }
   ],
   "source": [
    "dt = pd.read_csv(\"/Users/mallorylecorre/Desktop/Dm_Ia/cars_data-class.csv\")\n",
    "print(dt.head())\n",
    "\n",
    "X = dt.drop('Impact_Environnement', axis=1)\n",
    "y = dt['Impact_Environnement']"
   ]
  },
  {
   "cell_type": "code",
   "execution_count": 51,
   "metadata": {},
   "outputs": [],
   "source": [
    "X_train, X_test, y_train, y_test = train_test_split(X, y, test_size=0.2, random_state=42)\n"
   ]
  },
  {
   "cell_type": "markdown",
   "metadata": {},
   "source": [
    "On standardise les données pour mettre toute les variables à la même échelle."
   ]
  },
  {
   "cell_type": "code",
   "execution_count": 75,
   "metadata": {},
   "outputs": [],
   "source": [
    "scaler = StandardScaler()\n",
    "X_train = scaler.fit_transform(X_train)\n",
    "X_test = scaler.transform(X_test)"
   ]
  },
  {
   "cell_type": "markdown",
   "metadata": {},
   "source": [
    "Distribution des données :"
   ]
  },
  {
   "cell_type": "code",
   "execution_count": 76,
   "metadata": {},
   "outputs": [
    {
     "data": {
      "text/plain": [
       "1    537\n",
       "3    385\n",
       "2     42\n",
       "0     36\n",
       "Name: Impact_Environnement, dtype: int64"
      ]
     },
     "execution_count": 76,
     "metadata": {},
     "output_type": "execute_result"
    }
   ],
   "source": [
    "dt['Impact_Environnement'].value_counts()"
   ]
  },
  {
   "cell_type": "markdown",
   "metadata": {},
   "source": [
    "On peut voir que le jeu de données est déséquilibrée avec une sur-représentation de la classe 1."
   ]
  },
  {
   "cell_type": "markdown",
   "metadata": {},
   "source": [
    "On équilibre les données en sur-échantillonant avec SMOTE"
   ]
  },
  {
   "cell_type": "code",
   "execution_count": 77,
   "metadata": {},
   "outputs": [],
   "source": [
    "smote = SMOTE(random_state=42)\n",
    "X_train, y_train = smote.fit_resample(X_train, y_train)\n"
   ]
  },
  {
   "cell_type": "markdown",
   "metadata": {},
   "source": [
    "On vérifie que le rééquillibrage a bien fonctionné"
   ]
  },
  {
   "cell_type": "code",
   "execution_count": 78,
   "metadata": {},
   "outputs": [
    {
     "name": "stdout",
     "output_type": "stream",
     "text": [
      "Nouvelle distribution :\n",
      "1    428\n",
      "3    428\n",
      "0    428\n",
      "2    428\n",
      "Name: Impact_Environnement, dtype: int64\n"
     ]
    }
   ],
   "source": [
    "print(\"Nouvelle distribution :\")\n",
    "print(pd.Series(y_train).value_counts())"
   ]
  },
  {
   "cell_type": "markdown",
   "metadata": {},
   "source": [
    "Les données sont équilibrées"
   ]
  },
  {
   "cell_type": "markdown",
   "metadata": {},
   "source": [
    "# Création du modèle "
   ]
  },
  {
   "cell_type": "code",
   "execution_count": 79,
   "metadata": {},
   "outputs": [],
   "source": [
    "model = Sequential()\n",
    "model.add(Dense(64, input_dim=X_train.shape[1], activation='relu'))\n",
    "model.add(Dense(32, activation='sigmoid'))\n",
    "model.add(Dense(4, activation='softmax'))"
   ]
  },
  {
   "cell_type": "markdown",
   "metadata": {},
   "source": [
    "compilation du modèle en tuilisant une fonction de perte qui correspond à une classification multi-class"
   ]
  },
  {
   "cell_type": "code",
   "execution_count": 80,
   "metadata": {},
   "outputs": [],
   "source": [
    "model.compile(optimizer='adam', loss='sparse_categorical_crossentropy', metrics=['accuracy'])\n"
   ]
  },
  {
   "cell_type": "markdown",
   "metadata": {},
   "source": [
    "Ajout d'une cross validatoin"
   ]
  },
  {
   "cell_type": "markdown",
   "metadata": {},
   "source": [
    "Entrainement du modèle "
   ]
  },
  {
   "cell_type": "code",
   "execution_count": 81,
   "metadata": {},
   "outputs": [
    {
     "name": "stdout",
     "output_type": "stream",
     "text": [
      "Epoch 1/50\n",
      "35/35 [==============================] - 0s 3ms/step - loss: 1.3909 - accuracy: 0.2834 - val_loss: 1.5060 - val_accuracy: 0.0496\n",
      "Epoch 2/50\n",
      "35/35 [==============================] - 0s 960us/step - loss: 1.2059 - accuracy: 0.5252 - val_loss: 1.5221 - val_accuracy: 0.2216\n",
      "Epoch 3/50\n",
      "35/35 [==============================] - 0s 913us/step - loss: 1.0913 - accuracy: 0.6435 - val_loss: 1.4079 - val_accuracy: 0.2857\n",
      "Epoch 4/50\n",
      "35/35 [==============================] - 0s 972us/step - loss: 0.9891 - accuracy: 0.6954 - val_loss: 1.3190 - val_accuracy: 0.2886\n",
      "Epoch 5/50\n",
      "35/35 [==============================] - 0s 943us/step - loss: 0.9068 - accuracy: 0.7173 - val_loss: 1.2609 - val_accuracy: 0.2886\n",
      "Epoch 6/50\n",
      "35/35 [==============================] - 0s 977us/step - loss: 0.8433 - accuracy: 0.7210 - val_loss: 1.1541 - val_accuracy: 0.2974\n",
      "Epoch 7/50\n",
      "35/35 [==============================] - 0s 1ms/step - loss: 0.7953 - accuracy: 0.7297 - val_loss: 1.1166 - val_accuracy: 0.3090\n",
      "Epoch 8/50\n",
      "35/35 [==============================] - 0s 1ms/step - loss: 0.7570 - accuracy: 0.7531 - val_loss: 1.0705 - val_accuracy: 0.3965\n",
      "Epoch 9/50\n",
      "35/35 [==============================] - 0s 993us/step - loss: 0.7237 - accuracy: 0.7772 - val_loss: 1.0232 - val_accuracy: 0.4519\n",
      "Epoch 10/50\n",
      "35/35 [==============================] - 0s 957us/step - loss: 0.6945 - accuracy: 0.7940 - val_loss: 0.9572 - val_accuracy: 0.5364\n",
      "Epoch 11/50\n",
      "35/35 [==============================] - 0s 985us/step - loss: 0.6680 - accuracy: 0.8145 - val_loss: 0.9243 - val_accuracy: 0.5627\n",
      "Epoch 12/50\n",
      "35/35 [==============================] - 0s 997us/step - loss: 0.6420 - accuracy: 0.8232 - val_loss: 0.9279 - val_accuracy: 0.5539\n",
      "Epoch 13/50\n",
      "35/35 [==============================] - 0s 1ms/step - loss: 0.6177 - accuracy: 0.8276 - val_loss: 0.8796 - val_accuracy: 0.6093\n",
      "Epoch 14/50\n",
      "35/35 [==============================] - 0s 2ms/step - loss: 0.5967 - accuracy: 0.8356 - val_loss: 0.8516 - val_accuracy: 0.6181\n",
      "Epoch 15/50\n",
      "35/35 [==============================] - 0s 958us/step - loss: 0.5740 - accuracy: 0.8378 - val_loss: 0.8071 - val_accuracy: 0.6531\n",
      "Epoch 16/50\n",
      "35/35 [==============================] - 0s 978us/step - loss: 0.5533 - accuracy: 0.8473 - val_loss: 0.7567 - val_accuracy: 0.6793\n",
      "Epoch 17/50\n",
      "35/35 [==============================] - 0s 948us/step - loss: 0.5356 - accuracy: 0.8481 - val_loss: 0.8091 - val_accuracy: 0.6560\n",
      "Epoch 18/50\n",
      "35/35 [==============================] - 0s 921us/step - loss: 0.5172 - accuracy: 0.8605 - val_loss: 0.7408 - val_accuracy: 0.6968\n",
      "Epoch 19/50\n",
      "35/35 [==============================] - 0s 971us/step - loss: 0.4989 - accuracy: 0.8634 - val_loss: 0.7174 - val_accuracy: 0.7143\n",
      "Epoch 20/50\n",
      "35/35 [==============================] - 0s 1ms/step - loss: 0.4835 - accuracy: 0.8605 - val_loss: 0.7352 - val_accuracy: 0.7085\n",
      "Epoch 21/50\n",
      "35/35 [==============================] - 0s 1ms/step - loss: 0.4675 - accuracy: 0.8773 - val_loss: 0.6877 - val_accuracy: 0.7259\n",
      "Epoch 22/50\n",
      "35/35 [==============================] - 0s 1ms/step - loss: 0.4515 - accuracy: 0.8744 - val_loss: 0.6509 - val_accuracy: 0.7522\n",
      "Epoch 23/50\n",
      "35/35 [==============================] - 0s 1ms/step - loss: 0.4381 - accuracy: 0.8787 - val_loss: 0.6495 - val_accuracy: 0.7580\n",
      "Epoch 24/50\n",
      "35/35 [==============================] - 0s 1ms/step - loss: 0.4240 - accuracy: 0.8868 - val_loss: 0.6615 - val_accuracy: 0.7522\n",
      "Epoch 25/50\n",
      "35/35 [==============================] - 0s 1ms/step - loss: 0.4101 - accuracy: 0.8934 - val_loss: 0.5954 - val_accuracy: 0.7930\n",
      "Epoch 26/50\n",
      "35/35 [==============================] - 0s 1ms/step - loss: 0.3985 - accuracy: 0.8926 - val_loss: 0.6102 - val_accuracy: 0.7901\n",
      "Epoch 27/50\n",
      "35/35 [==============================] - 0s 1ms/step - loss: 0.3858 - accuracy: 0.8977 - val_loss: 0.5863 - val_accuracy: 0.7901\n",
      "Epoch 28/50\n",
      "35/35 [==============================] - 0s 1ms/step - loss: 0.3746 - accuracy: 0.9007 - val_loss: 0.5797 - val_accuracy: 0.7901\n",
      "Epoch 29/50\n",
      "35/35 [==============================] - 0s 1ms/step - loss: 0.3661 - accuracy: 0.8985 - val_loss: 0.5768 - val_accuracy: 0.7901\n",
      "Epoch 30/50\n",
      "35/35 [==============================] - 0s 1ms/step - loss: 0.3562 - accuracy: 0.8985 - val_loss: 0.4951 - val_accuracy: 0.8397\n",
      "Epoch 31/50\n",
      "35/35 [==============================] - 0s 1ms/step - loss: 0.3471 - accuracy: 0.9021 - val_loss: 0.5294 - val_accuracy: 0.8280\n",
      "Epoch 32/50\n",
      "35/35 [==============================] - 0s 1ms/step - loss: 0.3353 - accuracy: 0.9116 - val_loss: 0.5240 - val_accuracy: 0.8309\n",
      "Epoch 33/50\n",
      "35/35 [==============================] - 0s 1ms/step - loss: 0.3281 - accuracy: 0.9116 - val_loss: 0.5103 - val_accuracy: 0.8367\n",
      "Epoch 34/50\n",
      "35/35 [==============================] - 0s 1ms/step - loss: 0.3198 - accuracy: 0.9138 - val_loss: 0.5151 - val_accuracy: 0.8222\n",
      "Epoch 35/50\n",
      "35/35 [==============================] - 0s 1ms/step - loss: 0.3137 - accuracy: 0.9138 - val_loss: 0.5105 - val_accuracy: 0.8280\n",
      "Epoch 36/50\n",
      "35/35 [==============================] - 0s 2ms/step - loss: 0.3043 - accuracy: 0.9167 - val_loss: 0.4911 - val_accuracy: 0.8426\n",
      "Epoch 37/50\n",
      "35/35 [==============================] - 0s 977us/step - loss: 0.2979 - accuracy: 0.9204 - val_loss: 0.4723 - val_accuracy: 0.8513\n",
      "Epoch 38/50\n",
      "35/35 [==============================] - 0s 987us/step - loss: 0.2912 - accuracy: 0.9204 - val_loss: 0.4881 - val_accuracy: 0.8455\n",
      "Epoch 39/50\n",
      "35/35 [==============================] - 0s 963us/step - loss: 0.2860 - accuracy: 0.9189 - val_loss: 0.5104 - val_accuracy: 0.8367\n",
      "Epoch 40/50\n",
      "35/35 [==============================] - 0s 961us/step - loss: 0.2789 - accuracy: 0.9226 - val_loss: 0.4767 - val_accuracy: 0.8484\n",
      "Epoch 41/50\n",
      "35/35 [==============================] - 0s 988us/step - loss: 0.2734 - accuracy: 0.9262 - val_loss: 0.4518 - val_accuracy: 0.8688\n",
      "Epoch 42/50\n",
      "35/35 [==============================] - 0s 980us/step - loss: 0.2677 - accuracy: 0.9248 - val_loss: 0.4423 - val_accuracy: 0.8717\n",
      "Epoch 43/50\n",
      "35/35 [==============================] - 0s 985us/step - loss: 0.2639 - accuracy: 0.9299 - val_loss: 0.4415 - val_accuracy: 0.8717\n",
      "Epoch 44/50\n",
      "35/35 [==============================] - 0s 1ms/step - loss: 0.2602 - accuracy: 0.9233 - val_loss: 0.4370 - val_accuracy: 0.8717\n",
      "Epoch 45/50\n",
      "35/35 [==============================] - 0s 1ms/step - loss: 0.2521 - accuracy: 0.9284 - val_loss: 0.4480 - val_accuracy: 0.8688\n",
      "Epoch 46/50\n",
      "35/35 [==============================] - 0s 942us/step - loss: 0.2471 - accuracy: 0.9299 - val_loss: 0.4430 - val_accuracy: 0.8601\n",
      "Epoch 47/50\n",
      "35/35 [==============================] - 0s 934us/step - loss: 0.2423 - accuracy: 0.9343 - val_loss: 0.4601 - val_accuracy: 0.8601\n",
      "Epoch 48/50\n",
      "35/35 [==============================] - 0s 941us/step - loss: 0.2382 - accuracy: 0.9335 - val_loss: 0.4072 - val_accuracy: 0.8863\n",
      "Epoch 49/50\n",
      "35/35 [==============================] - 0s 952us/step - loss: 0.2327 - accuracy: 0.9343 - val_loss: 0.4443 - val_accuracy: 0.8717\n",
      "Epoch 50/50\n",
      "35/35 [==============================] - 0s 919us/step - loss: 0.2305 - accuracy: 0.9350 - val_loss: 0.4393 - val_accuracy: 0.8717\n"
     ]
    },
    {
     "data": {
      "text/plain": [
       "<keras.src.callbacks.History at 0x29229cb50>"
      ]
     },
     "execution_count": 81,
     "metadata": {},
     "output_type": "execute_result"
    }
   ],
   "source": [
    "model.fit(X_train, y_train, epochs=50, batch_size=40, validation_split=0.2)\n"
   ]
  },
  {
   "cell_type": "markdown",
   "metadata": {},
   "source": [
    "# Evalutation du modèle"
   ]
  },
  {
   "cell_type": "code",
   "execution_count": 86,
   "metadata": {},
   "outputs": [
    {
     "name": "stdout",
     "output_type": "stream",
     "text": [
      "7/7 [==============================] - 0s 553us/step\n",
      "Accuracy: 0.795\n"
     ]
    }
   ],
   "source": [
    "y_pred_probabilities = model.predict(X_test)\n",
    "y_pred = np.argmax(y_pred_probabilities, axis=1)\n",
    "\n",
    "accuracy = accuracy_score(y_test, y_pred)\n",
    "print(f\"Accuracy: {accuracy}\")"
   ]
  },
  {
   "cell_type": "markdown",
   "metadata": {},
   "source": [
    "affichaqge des différents score et de la matrice de confusion"
   ]
  },
  {
   "cell_type": "markdown",
   "metadata": {},
   "source": []
  },
  {
   "cell_type": "markdown",
   "metadata": {},
   "source": []
  },
  {
   "cell_type": "markdown",
   "metadata": {},
   "source": []
  }
 ],
 "metadata": {
  "kernelspec": {
   "display_name": "Python 3",
   "language": "python",
   "name": "python3"
  },
  "language_info": {
   "codemirror_mode": {
    "name": "ipython",
    "version": 3
   },
   "file_extension": ".py",
   "mimetype": "text/x-python",
   "name": "python",
   "nbconvert_exporter": "python",
   "pygments_lexer": "ipython3",
   "version": "3.9.6"
  }
 },
 "nbformat": 4,
 "nbformat_minor": 2
}
