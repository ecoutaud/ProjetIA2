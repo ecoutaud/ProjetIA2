{
 "cells": [
  {
   "cell_type": "code",
   "execution_count": 211,
   "metadata": {},
   "outputs": [],
   "source": [
    "import pandas as pd\n",
    "import numpy as np\n",
    "from sklearn.model_selection import train_test_split\n",
    "from sklearn.metrics import confusion_matrix, classification_report, accuracy_score, f1_score\n",
    "from imblearn.over_sampling import SMOTE\n",
    "from keras.models import Sequential\n",
    "from keras.layers import Dense\n",
    "from keras.utils import to_categorical\n",
    "import matplotlib.pyplot as plt\n",
    "import seaborn as sns\n",
    "\n",
    "\n"
   ]
  },
  {
   "cell_type": "markdown",
   "metadata": {},
   "source": [
    "# 1. Traitement des données "
   ]
  },
  {
   "cell_type": "markdown",
   "metadata": {},
   "source": [
    "Importation du jeu de données et division en données classe et caractéristique"
   ]
  },
  {
   "cell_type": "code",
   "execution_count": 223,
   "metadata": {},
   "outputs": [
    {
     "name": "stdout",
     "output_type": "stream",
     "text": [
      "   Taille_Auto   Poids_Auto  Acceleration  Annee_Fabrication    Kilometrage  \\\n",
      "0     3.790317  8869.946374      2.038688               2006  135542.067972   \n",
      "1     3.375892  1126.174079      2.067411               2010   33710.551662   \n",
      "2     4.844971  6100.019066      4.839676               2016  112977.279109   \n",
      "3     2.316172  5771.509867      1.202574               2014   50139.727635   \n",
      "4     2.618825  5676.666211      5.470806               2009  191188.750210   \n",
      "\n",
      "   Nombre_Portes  Vitesse_Max  Prix_Assurance  Categorie_Voiture    Decote  \\\n",
      "0              5   195.289066      184.125577                  1  0.104588   \n",
      "1              5   249.979656      858.935088                  3  0.346064   \n",
      "2              5   235.763320      302.138838                  4  0.394582   \n",
      "3              4   216.802020     1298.671966                  5  0.422048   \n",
      "4              4   234.004505      702.626517                  2  0.279959   \n",
      "\n",
      "   Impact_Environnement  \n",
      "0                     1  \n",
      "1                     1  \n",
      "2                     3  \n",
      "3                     2  \n",
      "4                     1  \n"
     ]
    }
   ],
   "source": [
    "dt = pd.read_csv(\"/Users/mallorylecorre/Desktop/Dm_Ia/cars_data-class.csv\")\n",
    "print(dt.head())\n",
    "\n",
    "X = dt.drop('Impact_Environnement', axis=1)\n",
    "y = dt['Impact_Environnement']"
   ]
  },
  {
   "cell_type": "code",
   "execution_count": 224,
   "metadata": {},
   "outputs": [],
   "source": [
    "X_train, X_test, y_train, y_test = train_test_split(X, y, test_size=0.2, random_state=42)\n"
   ]
  },
  {
   "cell_type": "code",
   "execution_count": 225,
   "metadata": {},
   "outputs": [
    {
     "data": {
      "text/plain": [
       "1    537\n",
       "3    385\n",
       "2     42\n",
       "0     36\n",
       "Name: Impact_Environnement, dtype: int64"
      ]
     },
     "execution_count": 225,
     "metadata": {},
     "output_type": "execute_result"
    }
   ],
   "source": [
    "dt['Impact_Environnement'].value_counts()"
   ]
  },
  {
   "cell_type": "markdown",
   "metadata": {},
   "source": [
    "On peut voir que le jeu de données est déséquilibrée avec une sur-représentation de la classe 1."
   ]
  },
  {
   "cell_type": "markdown",
   "metadata": {},
   "source": [
    "On équilibre les données en sur-échantillonant avec SMOTE"
   ]
  },
  {
   "cell_type": "code",
   "execution_count": 226,
   "metadata": {},
   "outputs": [],
   "source": [
    "smote = SMOTE(random_state=42)\n",
    "X_train, y_train = smote.fit_resample(X_train, y_train)\n"
   ]
  },
  {
   "cell_type": "markdown",
   "metadata": {},
   "source": [
    "On vérifie que le rééquillibrage a bien fonctionné"
   ]
  },
  {
   "cell_type": "code",
   "execution_count": 227,
   "metadata": {},
   "outputs": [
    {
     "name": "stdout",
     "output_type": "stream",
     "text": [
      "Nouvelle distribution :\n",
      "1    428\n",
      "3    428\n",
      "0    428\n",
      "2    428\n",
      "Name: Impact_Environnement, dtype: int64\n"
     ]
    }
   ],
   "source": [
    "print(\"Nouvelle distribution :\")\n",
    "print(pd.Series(y_train).value_counts())"
   ]
  },
  {
   "cell_type": "markdown",
   "metadata": {},
   "source": [
    "Les données sont équilibrées"
   ]
  },
  {
   "cell_type": "markdown",
   "metadata": {},
   "source": [
    "# Création du modèle "
   ]
  },
  {
   "cell_type": "code",
   "execution_count": 228,
   "metadata": {},
   "outputs": [],
   "source": [
    "y_train = to_categorical(y_train, num_classes=4)\n",
    "y_test = to_categorical(y_test, num_classes=4)"
   ]
  },
  {
   "cell_type": "code",
   "execution_count": 229,
   "metadata": {},
   "outputs": [],
   "source": [
    "model = Sequential()\n",
    "model.add(Dense(64, input_dim=X_train.shape[1], activation='relu'))\n",
    "model.add(Dense(32, activation='sigmoid'))\n",
    "model.add(Dense(4, activation='softmax'))"
   ]
  },
  {
   "cell_type": "markdown",
   "metadata": {},
   "source": [
    "compilation du modèle en tuilisant une fonction de perte qui correspond à une classification multi-class"
   ]
  },
  {
   "cell_type": "code",
   "execution_count": 230,
   "metadata": {},
   "outputs": [],
   "source": [
    "model.compile(optimizer='adam', loss='categorical_crossentropy', metrics=['accuracy'])\n"
   ]
  },
  {
   "cell_type": "markdown",
   "metadata": {},
   "source": [
    "Entrainement du modèle "
   ]
  },
  {
   "cell_type": "code",
   "execution_count": 239,
   "metadata": {},
   "outputs": [
    {
     "name": "stdout",
     "output_type": "stream",
     "text": [
      "Epoch 1/50\n",
      "35/35 [==============================] - 0s 2ms/step - loss: 1.3475 - accuracy: 0.3017 - val_loss: 1.7401 - val_accuracy: 0.0000e+00\n",
      "Epoch 2/50\n",
      "35/35 [==============================] - 0s 964us/step - loss: 1.3468 - accuracy: 0.3258 - val_loss: 1.7420 - val_accuracy: 0.0000e+00\n",
      "Epoch 3/50\n",
      "35/35 [==============================] - 0s 977us/step - loss: 1.3484 - accuracy: 0.3134 - val_loss: 1.7702 - val_accuracy: 0.0000e+00\n",
      "Epoch 4/50\n",
      "35/35 [==============================] - 0s 970us/step - loss: 1.3465 - accuracy: 0.3141 - val_loss: 1.7663 - val_accuracy: 0.0000e+00\n",
      "Epoch 5/50\n",
      "35/35 [==============================] - 0s 993us/step - loss: 1.3478 - accuracy: 0.3046 - val_loss: 1.7558 - val_accuracy: 0.0000e+00\n",
      "Epoch 6/50\n",
      "35/35 [==============================] - 0s 1ms/step - loss: 1.3472 - accuracy: 0.3097 - val_loss: 1.7541 - val_accuracy: 0.0000e+00\n",
      "Epoch 7/50\n",
      "35/35 [==============================] - 0s 2ms/step - loss: 1.3491 - accuracy: 0.3112 - val_loss: 1.7648 - val_accuracy: 0.0000e+00\n",
      "Epoch 8/50\n",
      "35/35 [==============================] - 0s 972us/step - loss: 1.3471 - accuracy: 0.2980 - val_loss: 1.7622 - val_accuracy: 0.0000e+00\n",
      "Epoch 9/50\n",
      "35/35 [==============================] - 0s 955us/step - loss: 1.3471 - accuracy: 0.3009 - val_loss: 1.7564 - val_accuracy: 0.0000e+00\n",
      "Epoch 10/50\n",
      "35/35 [==============================] - 0s 937us/step - loss: 1.3472 - accuracy: 0.3068 - val_loss: 1.7484 - val_accuracy: 0.0000e+00\n",
      "Epoch 11/50\n",
      "35/35 [==============================] - 0s 976us/step - loss: 1.3471 - accuracy: 0.3002 - val_loss: 1.7622 - val_accuracy: 0.0000e+00\n",
      "Epoch 12/50\n",
      "35/35 [==============================] - 0s 960us/step - loss: 1.3466 - accuracy: 0.3141 - val_loss: 1.7609 - val_accuracy: 0.0000e+00\n",
      "Epoch 13/50\n",
      "35/35 [==============================] - 0s 1ms/step - loss: 1.3473 - accuracy: 0.3156 - val_loss: 1.7583 - val_accuracy: 0.0000e+00\n",
      "Epoch 14/50\n",
      "35/35 [==============================] - 0s 1ms/step - loss: 1.3469 - accuracy: 0.3039 - val_loss: 1.7690 - val_accuracy: 0.0000e+00\n",
      "Epoch 15/50\n",
      "35/35 [==============================] - 0s 1ms/step - loss: 1.3464 - accuracy: 0.3156 - val_loss: 1.7622 - val_accuracy: 0.0000e+00\n",
      "Epoch 16/50\n",
      "35/35 [==============================] - 0s 1ms/step - loss: 1.3468 - accuracy: 0.2988 - val_loss: 1.7594 - val_accuracy: 0.0000e+00\n",
      "Epoch 17/50\n",
      "35/35 [==============================] - 0s 1ms/step - loss: 1.3474 - accuracy: 0.3126 - val_loss: 1.7268 - val_accuracy: 0.0000e+00\n",
      "Epoch 18/50\n",
      "35/35 [==============================] - 0s 1ms/step - loss: 1.3471 - accuracy: 0.3126 - val_loss: 1.7689 - val_accuracy: 0.0000e+00\n",
      "Epoch 19/50\n",
      "35/35 [==============================] - 0s 1ms/step - loss: 1.3469 - accuracy: 0.3134 - val_loss: 1.7662 - val_accuracy: 0.0000e+00\n",
      "Epoch 20/50\n",
      "35/35 [==============================] - 0s 1ms/step - loss: 1.3467 - accuracy: 0.3178 - val_loss: 1.7534 - val_accuracy: 0.0000e+00\n",
      "Epoch 21/50\n",
      "35/35 [==============================] - 0s 1ms/step - loss: 1.3473 - accuracy: 0.3009 - val_loss: 1.7564 - val_accuracy: 0.0000e+00\n",
      "Epoch 22/50\n",
      "35/35 [==============================] - 0s 937us/step - loss: 1.3480 - accuracy: 0.3061 - val_loss: 1.7659 - val_accuracy: 0.0000e+00\n",
      "Epoch 23/50\n",
      "35/35 [==============================] - 0s 913us/step - loss: 1.3473 - accuracy: 0.3141 - val_loss: 1.7451 - val_accuracy: 0.0000e+00\n",
      "Epoch 24/50\n",
      "35/35 [==============================] - 0s 916us/step - loss: 1.3469 - accuracy: 0.2893 - val_loss: 1.7414 - val_accuracy: 0.0000e+00\n",
      "Epoch 25/50\n",
      "35/35 [==============================] - 0s 985us/step - loss: 1.3471 - accuracy: 0.3046 - val_loss: 1.7747 - val_accuracy: 0.0000e+00\n",
      "Epoch 26/50\n",
      "35/35 [==============================] - 0s 2ms/step - loss: 1.3475 - accuracy: 0.3141 - val_loss: 1.7612 - val_accuracy: 0.0000e+00\n",
      "Epoch 27/50\n",
      "35/35 [==============================] - 0s 1ms/step - loss: 1.3467 - accuracy: 0.3039 - val_loss: 1.7847 - val_accuracy: 0.0000e+00\n",
      "Epoch 28/50\n",
      "35/35 [==============================] - 0s 1ms/step - loss: 1.3473 - accuracy: 0.3024 - val_loss: 1.7406 - val_accuracy: 0.0000e+00\n",
      "Epoch 29/50\n",
      "35/35 [==============================] - 0s 1ms/step - loss: 1.3472 - accuracy: 0.3083 - val_loss: 1.7560 - val_accuracy: 0.0000e+00\n",
      "Epoch 30/50\n",
      "35/35 [==============================] - 0s 1ms/step - loss: 1.3468 - accuracy: 0.3104 - val_loss: 1.7444 - val_accuracy: 0.0000e+00\n",
      "Epoch 31/50\n",
      "35/35 [==============================] - 0s 1ms/step - loss: 1.3474 - accuracy: 0.3039 - val_loss: 1.7487 - val_accuracy: 0.0000e+00\n",
      "Epoch 32/50\n",
      "35/35 [==============================] - 0s 1ms/step - loss: 1.3474 - accuracy: 0.3039 - val_loss: 1.7595 - val_accuracy: 0.0000e+00\n",
      "Epoch 33/50\n",
      "35/35 [==============================] - 0s 1ms/step - loss: 1.3470 - accuracy: 0.2995 - val_loss: 1.7444 - val_accuracy: 0.0000e+00\n",
      "Epoch 34/50\n",
      "35/35 [==============================] - 0s 1ms/step - loss: 1.3474 - accuracy: 0.2988 - val_loss: 1.7642 - val_accuracy: 0.0000e+00\n",
      "Epoch 35/50\n",
      "35/35 [==============================] - 0s 981us/step - loss: 1.3463 - accuracy: 0.3134 - val_loss: 1.7535 - val_accuracy: 0.0000e+00\n",
      "Epoch 36/50\n",
      "35/35 [==============================] - 0s 933us/step - loss: 1.3472 - accuracy: 0.3097 - val_loss: 1.7336 - val_accuracy: 0.0000e+00\n",
      "Epoch 37/50\n",
      "35/35 [==============================] - 0s 953us/step - loss: 1.3475 - accuracy: 0.3163 - val_loss: 1.7609 - val_accuracy: 0.0000e+00\n",
      "Epoch 38/50\n",
      "35/35 [==============================] - 0s 935us/step - loss: 1.3471 - accuracy: 0.3134 - val_loss: 1.7485 - val_accuracy: 0.0000e+00\n",
      "Epoch 39/50\n",
      "35/35 [==============================] - 0s 939us/step - loss: 1.3480 - accuracy: 0.2885 - val_loss: 1.7545 - val_accuracy: 0.0000e+00\n",
      "Epoch 40/50\n",
      "35/35 [==============================] - 0s 942us/step - loss: 1.3476 - accuracy: 0.3141 - val_loss: 1.7584 - val_accuracy: 0.0000e+00\n",
      "Epoch 41/50\n",
      "35/35 [==============================] - 0s 956us/step - loss: 1.3473 - accuracy: 0.3119 - val_loss: 1.7518 - val_accuracy: 0.0000e+00\n",
      "Epoch 42/50\n",
      "35/35 [==============================] - 0s 959us/step - loss: 1.3469 - accuracy: 0.3090 - val_loss: 1.7395 - val_accuracy: 0.0000e+00\n",
      "Epoch 43/50\n",
      "35/35 [==============================] - 0s 965us/step - loss: 1.3478 - accuracy: 0.3083 - val_loss: 1.7631 - val_accuracy: 0.0000e+00\n",
      "Epoch 44/50\n",
      "35/35 [==============================] - 0s 943us/step - loss: 1.3469 - accuracy: 0.3039 - val_loss: 1.7385 - val_accuracy: 0.0000e+00\n",
      "Epoch 45/50\n",
      "35/35 [==============================] - 0s 953us/step - loss: 1.3473 - accuracy: 0.3178 - val_loss: 1.7431 - val_accuracy: 0.0000e+00\n",
      "Epoch 46/50\n",
      "35/35 [==============================] - 0s 961us/step - loss: 1.3472 - accuracy: 0.3068 - val_loss: 1.7314 - val_accuracy: 0.0000e+00\n",
      "Epoch 47/50\n",
      "35/35 [==============================] - 0s 968us/step - loss: 1.3466 - accuracy: 0.3148 - val_loss: 1.7613 - val_accuracy: 0.0000e+00\n",
      "Epoch 48/50\n",
      "35/35 [==============================] - 0s 954us/step - loss: 1.3472 - accuracy: 0.3112 - val_loss: 1.7575 - val_accuracy: 0.0000e+00\n",
      "Epoch 49/50\n",
      "35/35 [==============================] - 0s 960us/step - loss: 1.3467 - accuracy: 0.3134 - val_loss: 1.7702 - val_accuracy: 0.0000e+00\n",
      "Epoch 50/50\n",
      "35/35 [==============================] - 0s 2ms/step - loss: 1.3480 - accuracy: 0.2907 - val_loss: 1.7377 - val_accuracy: 0.0000e+00\n"
     ]
    },
    {
     "data": {
      "text/plain": [
       "<keras.src.callbacks.History at 0x17ba9c580>"
      ]
     },
     "execution_count": 239,
     "metadata": {},
     "output_type": "execute_result"
    }
   ],
   "source": [
    "model.fit(X_train, y_train, epochs=50, batch_size=40, validation_split=0.2)\n"
   ]
  },
  {
   "cell_type": "markdown",
   "metadata": {},
   "source": [
    "# Evalutation du modèle"
   ]
  },
  {
   "cell_type": "code",
   "execution_count": 240,
   "metadata": {},
   "outputs": [
    {
     "name": "stdout",
     "output_type": "stream",
     "text": [
      "7/7 [==============================] - 0s 691us/step - loss: 1.3084 - accuracy: 0.5350\n",
      "Accuracy: 0.5350000262260437\n"
     ]
    }
   ],
   "source": [
    "eval_results = model.evaluate(X_test, y_test_categorical)\n",
    "\n",
    "# Récupérer l'accuracy depuis les résultats de l'évaluation\n",
    "accuracy = eval_results[1]\n",
    "\n",
    "# Afficher l'accuracy\n",
    "print(\"Accuracy:\", accuracy)"
   ]
  },
  {
   "cell_type": "markdown",
   "metadata": {},
   "source": [
    "affichaqge des différents score et de la matrice de confusion"
   ]
  },
  {
   "cell_type": "markdown",
   "metadata": {},
   "source": []
  },
  {
   "cell_type": "markdown",
   "metadata": {},
   "source": []
  },
  {
   "cell_type": "markdown",
   "metadata": {},
   "source": []
  }
 ],
 "metadata": {
  "kernelspec": {
   "display_name": "Python 3",
   "language": "python",
   "name": "python3"
  },
  "language_info": {
   "name": "python",
   "version": "3.9.6"
  }
 },
 "nbformat": 4,
 "nbformat_minor": 2
}
