{
 "cells": [
  {
   "cell_type": "code",
   "execution_count": 112,
   "metadata": {},
   "outputs": [],
   "source": [
    "import pandas as pd\n",
    "import numpy as np\n",
    "from sklearn.model_selection import train_test_split\n",
    "from sklearn.metrics import classification_report, accuracy_score\n",
    "from sklearn.preprocessing import StandardScaler\n",
    "\n",
    "from imblearn.over_sampling import SMOTE\n",
    "from keras.models import Sequential\n",
    "from keras.layers import Dense \n",
    "\n"
   ]
  },
  {
   "cell_type": "markdown",
   "metadata": {},
   "source": [
    "# 1. Traitement des données "
   ]
  },
  {
   "cell_type": "markdown",
   "metadata": {},
   "source": [
    "Importation du jeu de données et division en données classe et caractéristique"
   ]
  },
  {
   "cell_type": "code",
   "execution_count": 128,
   "metadata": {},
   "outputs": [
    {
     "name": "stdout",
     "output_type": "stream",
     "text": [
      "   Taille_Auto   Poids_Auto  Acceleration  Annee_Fabrication    Kilometrage  \\\n",
      "0     3.790317  8869.946374      2.038688               2006  135542.067972   \n",
      "1     3.375892  1126.174079      2.067411               2010   33710.551662   \n",
      "2     4.844971  6100.019066      4.839676               2016  112977.279109   \n",
      "3     2.316172  5771.509867      1.202574               2014   50139.727635   \n",
      "4     2.618825  5676.666211      5.470806               2009  191188.750210   \n",
      "\n",
      "   Nombre_Portes  Vitesse_Max  Prix_Assurance  Categorie_Voiture    Decote  \\\n",
      "0              5   195.289066      184.125577                  1  0.104588   \n",
      "1              5   249.979656      858.935088                  3  0.346064   \n",
      "2              5   235.763320      302.138838                  4  0.394582   \n",
      "3              4   216.802020     1298.671966                  5  0.422048   \n",
      "4              4   234.004505      702.626517                  2  0.279959   \n",
      "\n",
      "   Impact_Environnement  \n",
      "0                     1  \n",
      "1                     1  \n",
      "2                     3  \n",
      "3                     2  \n",
      "4                     1  \n"
     ]
    }
   ],
   "source": [
    "dt = pd.read_csv(\"/Users/mallorylecorre/Desktop/Dm_Ia/cars_data-class.csv\")\n",
    "print(dt.head())\n",
    "\n",
    "X = dt.drop('Impact_Environnement', axis=1)\n",
    "y = dt['Impact_Environnement']"
   ]
  },
  {
   "cell_type": "code",
   "execution_count": 129,
   "metadata": {},
   "outputs": [],
   "source": [
    "X_train, X_test, y_train, y_test = train_test_split(X, y, test_size=0.2, random_state=42)\n"
   ]
  },
  {
   "cell_type": "markdown",
   "metadata": {},
   "source": [
    "On standardise les données pour mettre toute les variables à la même échelle."
   ]
  },
  {
   "cell_type": "code",
   "execution_count": 130,
   "metadata": {},
   "outputs": [],
   "source": [
    "scaler = StandardScaler()\n",
    "X_train = scaler.fit_transform(X_train)\n",
    "X_test = scaler.transform(X_test)"
   ]
  },
  {
   "cell_type": "markdown",
   "metadata": {},
   "source": [
    "Distribution des données :"
   ]
  },
  {
   "cell_type": "code",
   "execution_count": 131,
   "metadata": {},
   "outputs": [
    {
     "data": {
      "text/plain": [
       "1    537\n",
       "3    385\n",
       "2     42\n",
       "0     36\n",
       "Name: Impact_Environnement, dtype: int64"
      ]
     },
     "execution_count": 131,
     "metadata": {},
     "output_type": "execute_result"
    }
   ],
   "source": [
    "dt['Impact_Environnement'].value_counts()"
   ]
  },
  {
   "cell_type": "markdown",
   "metadata": {},
   "source": [
    "On peut voir que le jeu de données est déséquilibrée avec une sur-représentation de la classe 1."
   ]
  },
  {
   "cell_type": "markdown",
   "metadata": {},
   "source": [
    "On équilibre les données en sur-échantillonant avec SMOTE"
   ]
  },
  {
   "cell_type": "code",
   "execution_count": 132,
   "metadata": {},
   "outputs": [],
   "source": [
    "smote = SMOTE(random_state=42)\n",
    "X_train, y_train = smote.fit_resample(X_train, y_train)\n"
   ]
  },
  {
   "cell_type": "markdown",
   "metadata": {},
   "source": [
    "On vérifie que le rééquillibrage a bien fonctionné"
   ]
  },
  {
   "cell_type": "code",
   "execution_count": 134,
   "metadata": {},
   "outputs": [
    {
     "name": "stdout",
     "output_type": "stream",
     "text": [
      "Nouvelle distribution :\n",
      "0    28\n",
      "1    28\n",
      "2    28\n",
      "3    28\n",
      "Name: Impact_Environnement, dtype: int64\n"
     ]
    }
   ],
   "source": [
    "print(\"Nouvelle distribution :\")\n",
    "print(pd.Series(y_train).value_counts())"
   ]
  },
  {
   "cell_type": "markdown",
   "metadata": {},
   "source": [
    "Les données sont équilibrées"
   ]
  },
  {
   "cell_type": "markdown",
   "metadata": {},
   "source": [
    "# Création du modèle "
   ]
  },
  {
   "cell_type": "markdown",
   "metadata": {},
   "source": [
    "Création du modèle avec trois couches. plusieurs tests ont été effectué pour trouver l'architecture des couches qui donnent les meilleurs résultats. La fonction d'activation relu est utilisé pour ses avantages et une dernière couche softmax car on a une classificaiton multi-classes."
   ]
  },
  {
   "cell_type": "code",
   "execution_count": 135,
   "metadata": {},
   "outputs": [],
   "source": [
    "model = Sequential()\n",
    "model.add(Dense(64, input_dim=X_train.shape[1], activation='relu'))\n",
    "model.add(Dense(32, activation='relu'))\n",
    "model.add(Dense(4, activation='softmax'))"
   ]
  },
  {
   "cell_type": "markdown",
   "metadata": {},
   "source": [
    "compilation du modèle en tuilisant une fonction de perte qui correspond à une classification multi-class"
   ]
  },
  {
   "cell_type": "code",
   "execution_count": 136,
   "metadata": {},
   "outputs": [],
   "source": [
    "model.compile(optimizer='adam', loss='sparse_categorical_crossentropy', metrics=['accuracy'])\n"
   ]
  },
  {
   "cell_type": "markdown",
   "metadata": {},
   "source": [
    "Ajout d'une cross validatoin"
   ]
  },
  {
   "cell_type": "markdown",
   "metadata": {},
   "source": [
    "Entrainement du modèle "
   ]
  },
  {
   "cell_type": "code",
   "execution_count": 137,
   "metadata": {},
   "outputs": [
    {
     "name": "stdout",
     "output_type": "stream",
     "text": [
      "Epoch 1/200\n"
     ]
    },
    {
     "name": "stdout",
     "output_type": "stream",
     "text": [
      "3/3 [==============================] - 0s 34ms/step - loss: 1.3350 - accuracy: 0.3371 - val_loss: 1.9115 - val_accuracy: 0.0000e+00\n",
      "Epoch 2/200\n",
      "3/3 [==============================] - 0s 7ms/step - loss: 1.2898 - accuracy: 0.3483 - val_loss: 1.9321 - val_accuracy: 0.0000e+00\n",
      "Epoch 3/200\n",
      "3/3 [==============================] - 0s 7ms/step - loss: 1.2540 - accuracy: 0.3933 - val_loss: 1.9613 - val_accuracy: 0.0000e+00\n",
      "Epoch 4/200\n",
      "3/3 [==============================] - 0s 7ms/step - loss: 1.2211 - accuracy: 0.4157 - val_loss: 1.9833 - val_accuracy: 0.0000e+00\n",
      "Epoch 5/200\n",
      "3/3 [==============================] - 0s 7ms/step - loss: 1.1917 - accuracy: 0.4382 - val_loss: 2.0091 - val_accuracy: 0.0000e+00\n",
      "Epoch 6/200\n",
      "3/3 [==============================] - 0s 7ms/step - loss: 1.1644 - accuracy: 0.5056 - val_loss: 2.0369 - val_accuracy: 0.0000e+00\n",
      "Epoch 7/200\n",
      "3/3 [==============================] - 0s 7ms/step - loss: 1.1385 - accuracy: 0.5393 - val_loss: 2.0585 - val_accuracy: 0.0000e+00\n",
      "Epoch 8/200\n",
      "3/3 [==============================] - 0s 7ms/step - loss: 1.1141 - accuracy: 0.5393 - val_loss: 2.0856 - val_accuracy: 0.0000e+00\n",
      "Epoch 9/200\n",
      "3/3 [==============================] - 0s 7ms/step - loss: 1.0913 - accuracy: 0.5843 - val_loss: 2.1062 - val_accuracy: 0.0000e+00\n",
      "Epoch 10/200\n",
      "3/3 [==============================] - 0s 7ms/step - loss: 1.0699 - accuracy: 0.6067 - val_loss: 2.1177 - val_accuracy: 0.0000e+00\n",
      "Epoch 11/200\n",
      "3/3 [==============================] - 0s 6ms/step - loss: 1.0504 - accuracy: 0.6180 - val_loss: 2.1246 - val_accuracy: 0.0000e+00\n",
      "Epoch 12/200\n",
      "3/3 [==============================] - 0s 7ms/step - loss: 1.0302 - accuracy: 0.6404 - val_loss: 2.1353 - val_accuracy: 0.0000e+00\n",
      "Epoch 13/200\n",
      "3/3 [==============================] - 0s 6ms/step - loss: 1.0121 - accuracy: 0.6292 - val_loss: 2.1439 - val_accuracy: 0.0000e+00\n",
      "Epoch 14/200\n",
      "3/3 [==============================] - 0s 7ms/step - loss: 0.9945 - accuracy: 0.6404 - val_loss: 2.1564 - val_accuracy: 0.0000e+00\n",
      "Epoch 15/200\n",
      "3/3 [==============================] - 0s 7ms/step - loss: 0.9771 - accuracy: 0.6742 - val_loss: 2.1642 - val_accuracy: 0.0000e+00\n",
      "Epoch 16/200\n",
      "3/3 [==============================] - 0s 6ms/step - loss: 0.9607 - accuracy: 0.6742 - val_loss: 2.1773 - val_accuracy: 0.0000e+00\n",
      "Epoch 17/200\n",
      "3/3 [==============================] - 0s 7ms/step - loss: 0.9465 - accuracy: 0.6742 - val_loss: 2.1897 - val_accuracy: 0.0000e+00\n",
      "Epoch 18/200\n",
      "3/3 [==============================] - 0s 7ms/step - loss: 0.9325 - accuracy: 0.7079 - val_loss: 2.2079 - val_accuracy: 0.0000e+00\n",
      "Epoch 19/200\n",
      "3/3 [==============================] - 0s 7ms/step - loss: 0.9173 - accuracy: 0.6854 - val_loss: 2.2255 - val_accuracy: 0.0000e+00\n",
      "Epoch 20/200\n",
      "3/3 [==============================] - 0s 7ms/step - loss: 0.9032 - accuracy: 0.6854 - val_loss: 2.2437 - val_accuracy: 0.0000e+00\n",
      "Epoch 21/200\n",
      "3/3 [==============================] - 0s 7ms/step - loss: 0.8890 - accuracy: 0.7191 - val_loss: 2.2565 - val_accuracy: 0.0000e+00\n",
      "Epoch 22/200\n",
      "3/3 [==============================] - 0s 15ms/step - loss: 0.8751 - accuracy: 0.7191 - val_loss: 2.2647 - val_accuracy: 0.0000e+00\n",
      "Epoch 23/200\n",
      "3/3 [==============================] - 0s 8ms/step - loss: 0.8619 - accuracy: 0.7303 - val_loss: 2.2809 - val_accuracy: 0.0000e+00\n",
      "Epoch 24/200\n",
      "3/3 [==============================] - 0s 8ms/step - loss: 0.8494 - accuracy: 0.7191 - val_loss: 2.2997 - val_accuracy: 0.0000e+00\n",
      "Epoch 25/200\n",
      "3/3 [==============================] - 0s 8ms/step - loss: 0.8367 - accuracy: 0.7303 - val_loss: 2.3236 - val_accuracy: 0.0000e+00\n",
      "Epoch 26/200\n",
      "3/3 [==============================] - 0s 8ms/step - loss: 0.8261 - accuracy: 0.7528 - val_loss: 2.3453 - val_accuracy: 0.0000e+00\n",
      "Epoch 27/200\n",
      "3/3 [==============================] - 0s 9ms/step - loss: 0.8150 - accuracy: 0.7528 - val_loss: 2.3658 - val_accuracy: 0.0000e+00\n",
      "Epoch 28/200\n",
      "3/3 [==============================] - 0s 8ms/step - loss: 0.8036 - accuracy: 0.7865 - val_loss: 2.3816 - val_accuracy: 0.0000e+00\n",
      "Epoch 29/200\n",
      "3/3 [==============================] - 0s 8ms/step - loss: 0.7914 - accuracy: 0.7865 - val_loss: 2.3965 - val_accuracy: 0.0000e+00\n",
      "Epoch 30/200\n",
      "3/3 [==============================] - 0s 8ms/step - loss: 0.7793 - accuracy: 0.7865 - val_loss: 2.4089 - val_accuracy: 0.0000e+00\n",
      "Epoch 31/200\n",
      "3/3 [==============================] - 0s 8ms/step - loss: 0.7680 - accuracy: 0.7865 - val_loss: 2.4091 - val_accuracy: 0.0000e+00\n",
      "Epoch 32/200\n",
      "3/3 [==============================] - 0s 8ms/step - loss: 0.7570 - accuracy: 0.7865 - val_loss: 2.4109 - val_accuracy: 0.0000e+00\n",
      "Epoch 33/200\n",
      "3/3 [==============================] - 0s 8ms/step - loss: 0.7461 - accuracy: 0.7640 - val_loss: 2.4167 - val_accuracy: 0.0435\n",
      "Epoch 34/200\n",
      "3/3 [==============================] - 0s 8ms/step - loss: 0.7376 - accuracy: 0.7528 - val_loss: 2.4172 - val_accuracy: 0.0435\n",
      "Epoch 35/200\n",
      "3/3 [==============================] - 0s 8ms/step - loss: 0.7275 - accuracy: 0.7528 - val_loss: 2.4161 - val_accuracy: 0.0870\n",
      "Epoch 36/200\n",
      "3/3 [==============================] - 0s 8ms/step - loss: 0.7179 - accuracy: 0.7528 - val_loss: 2.4201 - val_accuracy: 0.0870\n",
      "Epoch 37/200\n",
      "3/3 [==============================] - 0s 8ms/step - loss: 0.7073 - accuracy: 0.7640 - val_loss: 2.4210 - val_accuracy: 0.0870\n",
      "Epoch 38/200\n",
      "3/3 [==============================] - 0s 8ms/step - loss: 0.6987 - accuracy: 0.7640 - val_loss: 2.4224 - val_accuracy: 0.0870\n",
      "Epoch 39/200\n",
      "3/3 [==============================] - 0s 8ms/step - loss: 0.6883 - accuracy: 0.7640 - val_loss: 2.4350 - val_accuracy: 0.0870\n",
      "Epoch 40/200\n",
      "3/3 [==============================] - 0s 8ms/step - loss: 0.6777 - accuracy: 0.7640 - val_loss: 2.4562 - val_accuracy: 0.0870\n",
      "Epoch 41/200\n",
      "3/3 [==============================] - 0s 7ms/step - loss: 0.6673 - accuracy: 0.8090 - val_loss: 2.4825 - val_accuracy: 0.0870\n",
      "Epoch 42/200\n",
      "3/3 [==============================] - 0s 7ms/step - loss: 0.6560 - accuracy: 0.8090 - val_loss: 2.4995 - val_accuracy: 0.0870\n",
      "Epoch 43/200\n",
      "3/3 [==============================] - 0s 7ms/step - loss: 0.6470 - accuracy: 0.8090 - val_loss: 2.5035 - val_accuracy: 0.0870\n",
      "Epoch 44/200\n",
      "3/3 [==============================] - 0s 7ms/step - loss: 0.6391 - accuracy: 0.8315 - val_loss: 2.5051 - val_accuracy: 0.0870\n",
      "Epoch 45/200\n",
      "3/3 [==============================] - 0s 14ms/step - loss: 0.6325 - accuracy: 0.8315 - val_loss: 2.5105 - val_accuracy: 0.0870\n",
      "Epoch 46/200\n",
      "3/3 [==============================] - 0s 9ms/step - loss: 0.6232 - accuracy: 0.8427 - val_loss: 2.5225 - val_accuracy: 0.0870\n",
      "Epoch 47/200\n",
      "3/3 [==============================] - 0s 8ms/step - loss: 0.6149 - accuracy: 0.8539 - val_loss: 2.5388 - val_accuracy: 0.0870\n",
      "Epoch 48/200\n",
      "3/3 [==============================] - 0s 8ms/step - loss: 0.6070 - accuracy: 0.8539 - val_loss: 2.5487 - val_accuracy: 0.0870\n",
      "Epoch 49/200\n",
      "3/3 [==============================] - 0s 7ms/step - loss: 0.5977 - accuracy: 0.8539 - val_loss: 2.5499 - val_accuracy: 0.0870\n",
      "Epoch 50/200\n",
      "3/3 [==============================] - 0s 8ms/step - loss: 0.5879 - accuracy: 0.8539 - val_loss: 2.5492 - val_accuracy: 0.0870\n",
      "Epoch 51/200\n",
      "3/3 [==============================] - 0s 7ms/step - loss: 0.5784 - accuracy: 0.8539 - val_loss: 2.5460 - val_accuracy: 0.0870\n",
      "Epoch 52/200\n",
      "3/3 [==============================] - 0s 7ms/step - loss: 0.5719 - accuracy: 0.8539 - val_loss: 2.5357 - val_accuracy: 0.0870\n",
      "Epoch 53/200\n",
      "3/3 [==============================] - 0s 7ms/step - loss: 0.5647 - accuracy: 0.8427 - val_loss: 2.5389 - val_accuracy: 0.0870\n",
      "Epoch 54/200\n",
      "3/3 [==============================] - 0s 8ms/step - loss: 0.5570 - accuracy: 0.8427 - val_loss: 2.5391 - val_accuracy: 0.0870\n",
      "Epoch 55/200\n",
      "3/3 [==============================] - 0s 7ms/step - loss: 0.5508 - accuracy: 0.8427 - val_loss: 2.5463 - val_accuracy: 0.0870\n",
      "Epoch 56/200\n",
      "3/3 [==============================] - 0s 7ms/step - loss: 0.5431 - accuracy: 0.8427 - val_loss: 2.5607 - val_accuracy: 0.0870\n",
      "Epoch 57/200\n",
      "3/3 [==============================] - 0s 7ms/step - loss: 0.5356 - accuracy: 0.8427 - val_loss: 2.5688 - val_accuracy: 0.0870\n",
      "Epoch 58/200\n",
      "3/3 [==============================] - 0s 8ms/step - loss: 0.5286 - accuracy: 0.8315 - val_loss: 2.5767 - val_accuracy: 0.0870\n",
      "Epoch 59/200\n",
      "3/3 [==============================] - 0s 8ms/step - loss: 0.5209 - accuracy: 0.8539 - val_loss: 2.5677 - val_accuracy: 0.0870\n",
      "Epoch 60/200\n",
      "3/3 [==============================] - 0s 8ms/step - loss: 0.5129 - accuracy: 0.8539 - val_loss: 2.5409 - val_accuracy: 0.0870\n",
      "Epoch 61/200\n",
      "3/3 [==============================] - 0s 8ms/step - loss: 0.5041 - accuracy: 0.8539 - val_loss: 2.5172 - val_accuracy: 0.0870\n",
      "Epoch 62/200\n",
      "3/3 [==============================] - 0s 7ms/step - loss: 0.4984 - accuracy: 0.8652 - val_loss: 2.4879 - val_accuracy: 0.0870\n",
      "Epoch 63/200\n",
      "3/3 [==============================] - 0s 7ms/step - loss: 0.4928 - accuracy: 0.8539 - val_loss: 2.4822 - val_accuracy: 0.1304\n",
      "Epoch 64/200\n",
      "3/3 [==============================] - 0s 8ms/step - loss: 0.4855 - accuracy: 0.8539 - val_loss: 2.4831 - val_accuracy: 0.1304\n",
      "Epoch 65/200\n",
      "3/3 [==============================] - 0s 7ms/step - loss: 0.4780 - accuracy: 0.8539 - val_loss: 2.4860 - val_accuracy: 0.1304\n",
      "Epoch 66/200\n",
      "3/3 [==============================] - 0s 7ms/step - loss: 0.4709 - accuracy: 0.8539 - val_loss: 2.4931 - val_accuracy: 0.1304\n",
      "Epoch 67/200\n",
      "3/3 [==============================] - 0s 12ms/step - loss: 0.4644 - accuracy: 0.8764 - val_loss: 2.4881 - val_accuracy: 0.1304\n",
      "Epoch 68/200\n",
      "3/3 [==============================] - 0s 9ms/step - loss: 0.4578 - accuracy: 0.8764 - val_loss: 2.4873 - val_accuracy: 0.1739\n",
      "Epoch 69/200\n",
      "3/3 [==============================] - 0s 7ms/step - loss: 0.4515 - accuracy: 0.8764 - val_loss: 2.4915 - val_accuracy: 0.1739\n",
      "Epoch 70/200\n",
      "3/3 [==============================] - 0s 7ms/step - loss: 0.4453 - accuracy: 0.8876 - val_loss: 2.4858 - val_accuracy: 0.1739\n",
      "Epoch 71/200\n",
      "3/3 [==============================] - 0s 7ms/step - loss: 0.4394 - accuracy: 0.8876 - val_loss: 2.4811 - val_accuracy: 0.1739\n",
      "Epoch 72/200\n",
      "3/3 [==============================] - 0s 7ms/step - loss: 0.4327 - accuracy: 0.8989 - val_loss: 2.4874 - val_accuracy: 0.1739\n",
      "Epoch 73/200\n",
      "3/3 [==============================] - 0s 7ms/step - loss: 0.4264 - accuracy: 0.8989 - val_loss: 2.4903 - val_accuracy: 0.1739\n",
      "Epoch 74/200\n",
      "3/3 [==============================] - 0s 7ms/step - loss: 0.4207 - accuracy: 0.8989 - val_loss: 2.5000 - val_accuracy: 0.1739\n",
      "Epoch 75/200\n",
      "3/3 [==============================] - 0s 7ms/step - loss: 0.4144 - accuracy: 0.8989 - val_loss: 2.5224 - val_accuracy: 0.1739\n",
      "Epoch 76/200\n",
      "3/3 [==============================] - 0s 7ms/step - loss: 0.4091 - accuracy: 0.8989 - val_loss: 2.5422 - val_accuracy: 0.1739\n",
      "Epoch 77/200\n",
      "3/3 [==============================] - 0s 7ms/step - loss: 0.4046 - accuracy: 0.8876 - val_loss: 2.5552 - val_accuracy: 0.1739\n",
      "Epoch 78/200\n",
      "3/3 [==============================] - 0s 7ms/step - loss: 0.4006 - accuracy: 0.8764 - val_loss: 2.5490 - val_accuracy: 0.1739\n",
      "Epoch 79/200\n",
      "3/3 [==============================] - 0s 7ms/step - loss: 0.3949 - accuracy: 0.8876 - val_loss: 2.5408 - val_accuracy: 0.1739\n",
      "Epoch 80/200\n",
      "3/3 [==============================] - 0s 6ms/step - loss: 0.3877 - accuracy: 0.8989 - val_loss: 2.5079 - val_accuracy: 0.1739\n",
      "Epoch 81/200\n",
      "3/3 [==============================] - 0s 7ms/step - loss: 0.3812 - accuracy: 0.9101 - val_loss: 2.4853 - val_accuracy: 0.2609\n",
      "Epoch 82/200\n",
      "3/3 [==============================] - 0s 6ms/step - loss: 0.3756 - accuracy: 0.9213 - val_loss: 2.4623 - val_accuracy: 0.2609\n",
      "Epoch 83/200\n",
      "3/3 [==============================] - 0s 7ms/step - loss: 0.3703 - accuracy: 0.9213 - val_loss: 2.4444 - val_accuracy: 0.2609\n",
      "Epoch 84/200\n",
      "3/3 [==============================] - 0s 7ms/step - loss: 0.3659 - accuracy: 0.9213 - val_loss: 2.4297 - val_accuracy: 0.2609\n",
      "Epoch 85/200\n",
      "3/3 [==============================] - 0s 9ms/step - loss: 0.3623 - accuracy: 0.9326 - val_loss: 2.4127 - val_accuracy: 0.3043\n",
      "Epoch 86/200\n",
      "3/3 [==============================] - 0s 8ms/step - loss: 0.3562 - accuracy: 0.9326 - val_loss: 2.4088 - val_accuracy: 0.3043\n",
      "Epoch 87/200\n",
      "3/3 [==============================] - 0s 8ms/step - loss: 0.3505 - accuracy: 0.9326 - val_loss: 2.4133 - val_accuracy: 0.3043\n",
      "Epoch 88/200\n",
      "3/3 [==============================] - 0s 15ms/step - loss: 0.3472 - accuracy: 0.9326 - val_loss: 2.4209 - val_accuracy: 0.3043\n",
      "Epoch 89/200\n",
      "3/3 [==============================] - 0s 10ms/step - loss: 0.3426 - accuracy: 0.9326 - val_loss: 2.4367 - val_accuracy: 0.3043\n",
      "Epoch 90/200\n",
      "3/3 [==============================] - 0s 8ms/step - loss: 0.3385 - accuracy: 0.9326 - val_loss: 2.4649 - val_accuracy: 0.3043\n",
      "Epoch 91/200\n",
      "3/3 [==============================] - 0s 8ms/step - loss: 0.3326 - accuracy: 0.9326 - val_loss: 2.4945 - val_accuracy: 0.3043\n",
      "Epoch 92/200\n",
      "3/3 [==============================] - 0s 12ms/step - loss: 0.3260 - accuracy: 0.9326 - val_loss: 2.5307 - val_accuracy: 0.3043\n",
      "Epoch 93/200\n",
      "3/3 [==============================] - 0s 8ms/step - loss: 0.3212 - accuracy: 0.9326 - val_loss: 2.5702 - val_accuracy: 0.3043\n",
      "Epoch 94/200\n",
      "3/3 [==============================] - 0s 9ms/step - loss: 0.3160 - accuracy: 0.9438 - val_loss: 2.6019 - val_accuracy: 0.2609\n",
      "Epoch 95/200\n",
      "3/3 [==============================] - 0s 8ms/step - loss: 0.3133 - accuracy: 0.9438 - val_loss: 2.6121 - val_accuracy: 0.2609\n",
      "Epoch 96/200\n",
      "3/3 [==============================] - 0s 9ms/step - loss: 0.3103 - accuracy: 0.9438 - val_loss: 2.6215 - val_accuracy: 0.2609\n",
      "Epoch 97/200\n",
      "3/3 [==============================] - 0s 8ms/step - loss: 0.3056 - accuracy: 0.9438 - val_loss: 2.6134 - val_accuracy: 0.3043\n",
      "Epoch 98/200\n",
      "3/3 [==============================] - 0s 8ms/step - loss: 0.2996 - accuracy: 0.9438 - val_loss: 2.6073 - val_accuracy: 0.3043\n",
      "Epoch 99/200\n",
      "3/3 [==============================] - 0s 9ms/step - loss: 0.2935 - accuracy: 0.9438 - val_loss: 2.5885 - val_accuracy: 0.3043\n",
      "Epoch 100/200\n",
      "3/3 [==============================] - 0s 8ms/step - loss: 0.2904 - accuracy: 0.9438 - val_loss: 2.5637 - val_accuracy: 0.3043\n",
      "Epoch 101/200\n",
      "3/3 [==============================] - 0s 7ms/step - loss: 0.2877 - accuracy: 0.9326 - val_loss: 2.5441 - val_accuracy: 0.3043\n",
      "Epoch 102/200\n",
      "3/3 [==============================] - 0s 8ms/step - loss: 0.2842 - accuracy: 0.9438 - val_loss: 2.5464 - val_accuracy: 0.3043\n",
      "Epoch 103/200\n",
      "3/3 [==============================] - 0s 8ms/step - loss: 0.2804 - accuracy: 0.9438 - val_loss: 2.5618 - val_accuracy: 0.3043\n",
      "Epoch 104/200\n",
      "3/3 [==============================] - 0s 8ms/step - loss: 0.2745 - accuracy: 0.9438 - val_loss: 2.5922 - val_accuracy: 0.3043\n",
      "Epoch 105/200\n",
      "3/3 [==============================] - 0s 8ms/step - loss: 0.2708 - accuracy: 0.9551 - val_loss: 2.6289 - val_accuracy: 0.2609\n",
      "Epoch 106/200\n",
      "3/3 [==============================] - 0s 12ms/step - loss: 0.2666 - accuracy: 0.9551 - val_loss: 2.6496 - val_accuracy: 0.2609\n",
      "Epoch 107/200\n",
      "3/3 [==============================] - 0s 8ms/step - loss: 0.2632 - accuracy: 0.9551 - val_loss: 2.6473 - val_accuracy: 0.2609\n",
      "Epoch 108/200\n",
      "3/3 [==============================] - 0s 7ms/step - loss: 0.2594 - accuracy: 0.9551 - val_loss: 2.6224 - val_accuracy: 0.2609\n",
      "Epoch 109/200\n",
      "3/3 [==============================] - 0s 7ms/step - loss: 0.2547 - accuracy: 0.9663 - val_loss: 2.5793 - val_accuracy: 0.3043\n",
      "Epoch 110/200\n",
      "3/3 [==============================] - 0s 7ms/step - loss: 0.2497 - accuracy: 0.9663 - val_loss: 2.5610 - val_accuracy: 0.3043\n",
      "Epoch 111/200\n",
      "3/3 [==============================] - 0s 7ms/step - loss: 0.2464 - accuracy: 0.9775 - val_loss: 2.5548 - val_accuracy: 0.3043\n",
      "Epoch 112/200\n",
      "3/3 [==============================] - 0s 7ms/step - loss: 0.2435 - accuracy: 0.9775 - val_loss: 2.5651 - val_accuracy: 0.3043\n",
      "Epoch 113/200\n",
      "3/3 [==============================] - 0s 6ms/step - loss: 0.2398 - accuracy: 0.9888 - val_loss: 2.5829 - val_accuracy: 0.2609\n",
      "Epoch 114/200\n",
      "3/3 [==============================] - 0s 6ms/step - loss: 0.2357 - accuracy: 0.9775 - val_loss: 2.6183 - val_accuracy: 0.2609\n",
      "Epoch 115/200\n",
      "3/3 [==============================] - 0s 6ms/step - loss: 0.2305 - accuracy: 0.9775 - val_loss: 2.6557 - val_accuracy: 0.2609\n",
      "Epoch 116/200\n",
      "3/3 [==============================] - 0s 6ms/step - loss: 0.2267 - accuracy: 0.9775 - val_loss: 2.6879 - val_accuracy: 0.2174\n",
      "Epoch 117/200\n",
      "3/3 [==============================] - 0s 7ms/step - loss: 0.2239 - accuracy: 0.9663 - val_loss: 2.7154 - val_accuracy: 0.2174\n",
      "Epoch 118/200\n",
      "3/3 [==============================] - 0s 6ms/step - loss: 0.2212 - accuracy: 0.9775 - val_loss: 2.7322 - val_accuracy: 0.2174\n",
      "Epoch 119/200\n",
      "3/3 [==============================] - 0s 6ms/step - loss: 0.2169 - accuracy: 0.9775 - val_loss: 2.7321 - val_accuracy: 0.2174\n",
      "Epoch 120/200\n",
      "3/3 [==============================] - 0s 6ms/step - loss: 0.2134 - accuracy: 0.9775 - val_loss: 2.7396 - val_accuracy: 0.2174\n",
      "Epoch 121/200\n",
      "3/3 [==============================] - 0s 6ms/step - loss: 0.2094 - accuracy: 0.9775 - val_loss: 2.7735 - val_accuracy: 0.1739\n",
      "Epoch 122/200\n",
      "3/3 [==============================] - 0s 6ms/step - loss: 0.2063 - accuracy: 0.9888 - val_loss: 2.8114 - val_accuracy: 0.1739\n",
      "Epoch 123/200\n",
      "3/3 [==============================] - 0s 6ms/step - loss: 0.2027 - accuracy: 0.9888 - val_loss: 2.8132 - val_accuracy: 0.1739\n",
      "Epoch 124/200\n",
      "3/3 [==============================] - 0s 6ms/step - loss: 0.1991 - accuracy: 0.9888 - val_loss: 2.8060 - val_accuracy: 0.2174\n",
      "Epoch 125/200\n",
      "3/3 [==============================] - 0s 6ms/step - loss: 0.1966 - accuracy: 0.9888 - val_loss: 2.7997 - val_accuracy: 0.2174\n",
      "Epoch 126/200\n",
      "3/3 [==============================] - 0s 6ms/step - loss: 0.1929 - accuracy: 0.9888 - val_loss: 2.7950 - val_accuracy: 0.2174\n",
      "Epoch 127/200\n",
      "3/3 [==============================] - 0s 7ms/step - loss: 0.1892 - accuracy: 0.9888 - val_loss: 2.7936 - val_accuracy: 0.2174\n",
      "Epoch 128/200\n",
      "3/3 [==============================] - 0s 7ms/step - loss: 0.1864 - accuracy: 0.9888 - val_loss: 2.7957 - val_accuracy: 0.2174\n",
      "Epoch 129/200\n",
      "3/3 [==============================] - 0s 7ms/step - loss: 0.1831 - accuracy: 0.9888 - val_loss: 2.8049 - val_accuracy: 0.2174\n",
      "Epoch 130/200\n",
      "3/3 [==============================] - 0s 13ms/step - loss: 0.1809 - accuracy: 0.9888 - val_loss: 2.8159 - val_accuracy: 0.2174\n",
      "Epoch 131/200\n",
      "3/3 [==============================] - 0s 9ms/step - loss: 0.1776 - accuracy: 0.9888 - val_loss: 2.8122 - val_accuracy: 0.2174\n",
      "Epoch 132/200\n",
      "3/3 [==============================] - 0s 8ms/step - loss: 0.1744 - accuracy: 0.9888 - val_loss: 2.7999 - val_accuracy: 0.2174\n",
      "Epoch 133/200\n",
      "3/3 [==============================] - 0s 8ms/step - loss: 0.1708 - accuracy: 0.9888 - val_loss: 2.7943 - val_accuracy: 0.2174\n",
      "Epoch 134/200\n",
      "3/3 [==============================] - 0s 8ms/step - loss: 0.1681 - accuracy: 0.9888 - val_loss: 2.7986 - val_accuracy: 0.2174\n",
      "Epoch 135/200\n",
      "3/3 [==============================] - 0s 8ms/step - loss: 0.1654 - accuracy: 0.9888 - val_loss: 2.8056 - val_accuracy: 0.2174\n",
      "Epoch 136/200\n",
      "3/3 [==============================] - 0s 8ms/step - loss: 0.1626 - accuracy: 0.9888 - val_loss: 2.8122 - val_accuracy: 0.2174\n",
      "Epoch 137/200\n",
      "3/3 [==============================] - 0s 8ms/step - loss: 0.1596 - accuracy: 0.9888 - val_loss: 2.8172 - val_accuracy: 0.2174\n",
      "Epoch 138/200\n",
      "3/3 [==============================] - 0s 8ms/step - loss: 0.1572 - accuracy: 0.9888 - val_loss: 2.8024 - val_accuracy: 0.2174\n",
      "Epoch 139/200\n",
      "3/3 [==============================] - 0s 8ms/step - loss: 0.1544 - accuracy: 0.9888 - val_loss: 2.7899 - val_accuracy: 0.2174\n",
      "Epoch 140/200\n",
      "3/3 [==============================] - 0s 8ms/step - loss: 0.1517 - accuracy: 0.9888 - val_loss: 2.7632 - val_accuracy: 0.2609\n",
      "Epoch 141/200\n",
      "3/3 [==============================] - 0s 8ms/step - loss: 0.1489 - accuracy: 0.9888 - val_loss: 2.7421 - val_accuracy: 0.3043\n",
      "Epoch 142/200\n",
      "3/3 [==============================] - 0s 8ms/step - loss: 0.1465 - accuracy: 0.9888 - val_loss: 2.7188 - val_accuracy: 0.3043\n",
      "Epoch 143/200\n",
      "3/3 [==============================] - 0s 8ms/step - loss: 0.1442 - accuracy: 0.9888 - val_loss: 2.7197 - val_accuracy: 0.3043\n",
      "Epoch 144/200\n",
      "3/3 [==============================] - 0s 7ms/step - loss: 0.1416 - accuracy: 0.9888 - val_loss: 2.7420 - val_accuracy: 0.3043\n",
      "Epoch 145/200\n",
      "3/3 [==============================] - 0s 8ms/step - loss: 0.1391 - accuracy: 0.9888 - val_loss: 2.7643 - val_accuracy: 0.2609\n",
      "Epoch 146/200\n",
      "3/3 [==============================] - 0s 14ms/step - loss: 0.1363 - accuracy: 0.9888 - val_loss: 2.7945 - val_accuracy: 0.2609\n",
      "Epoch 147/200\n",
      "3/3 [==============================] - 0s 10ms/step - loss: 0.1342 - accuracy: 0.9888 - val_loss: 2.8215 - val_accuracy: 0.2609\n",
      "Epoch 148/200\n",
      "3/3 [==============================] - 0s 8ms/step - loss: 0.1313 - accuracy: 0.9888 - val_loss: 2.8379 - val_accuracy: 0.2174\n",
      "Epoch 149/200\n",
      "3/3 [==============================] - 0s 8ms/step - loss: 0.1291 - accuracy: 0.9888 - val_loss: 2.8531 - val_accuracy: 0.2174\n",
      "Epoch 150/200\n",
      "3/3 [==============================] - 0s 8ms/step - loss: 0.1262 - accuracy: 0.9888 - val_loss: 2.8703 - val_accuracy: 0.2174\n",
      "Epoch 151/200\n",
      "3/3 [==============================] - 0s 7ms/step - loss: 0.1242 - accuracy: 0.9888 - val_loss: 2.8816 - val_accuracy: 0.2174\n",
      "Epoch 152/200\n",
      "3/3 [==============================] - 0s 8ms/step - loss: 0.1221 - accuracy: 0.9888 - val_loss: 2.8802 - val_accuracy: 0.2174\n",
      "Epoch 153/200\n",
      "3/3 [==============================] - 0s 8ms/step - loss: 0.1201 - accuracy: 0.9888 - val_loss: 2.8873 - val_accuracy: 0.2174\n",
      "Epoch 154/200\n",
      "3/3 [==============================] - 0s 8ms/step - loss: 0.1184 - accuracy: 0.9888 - val_loss: 2.8990 - val_accuracy: 0.2174\n",
      "Epoch 155/200\n",
      "3/3 [==============================] - 0s 8ms/step - loss: 0.1164 - accuracy: 0.9888 - val_loss: 2.8956 - val_accuracy: 0.2174\n",
      "Epoch 156/200\n",
      "3/3 [==============================] - 0s 8ms/step - loss: 0.1141 - accuracy: 0.9888 - val_loss: 2.8997 - val_accuracy: 0.2609\n",
      "Epoch 157/200\n",
      "3/3 [==============================] - 0s 8ms/step - loss: 0.1120 - accuracy: 0.9888 - val_loss: 2.9106 - val_accuracy: 0.2609\n",
      "Epoch 158/200\n",
      "3/3 [==============================] - 0s 8ms/step - loss: 0.1103 - accuracy: 0.9888 - val_loss: 2.9212 - val_accuracy: 0.2609\n",
      "Epoch 159/200\n",
      "3/3 [==============================] - 0s 8ms/step - loss: 0.1089 - accuracy: 0.9888 - val_loss: 2.9473 - val_accuracy: 0.2609\n",
      "Epoch 160/200\n",
      "3/3 [==============================] - 0s 8ms/step - loss: 0.1073 - accuracy: 0.9888 - val_loss: 2.9786 - val_accuracy: 0.2174\n",
      "Epoch 161/200\n",
      "3/3 [==============================] - 0s 8ms/step - loss: 0.1053 - accuracy: 1.0000 - val_loss: 2.9946 - val_accuracy: 0.2174\n",
      "Epoch 162/200\n",
      "3/3 [==============================] - 0s 8ms/step - loss: 0.1031 - accuracy: 1.0000 - val_loss: 3.0008 - val_accuracy: 0.2174\n",
      "Epoch 163/200\n",
      "3/3 [==============================] - 0s 8ms/step - loss: 0.1013 - accuracy: 1.0000 - val_loss: 3.0040 - val_accuracy: 0.2174\n",
      "Epoch 164/200\n",
      "3/3 [==============================] - 0s 8ms/step - loss: 0.0998 - accuracy: 0.9888 - val_loss: 2.9980 - val_accuracy: 0.2609\n",
      "Epoch 165/200\n",
      "3/3 [==============================] - 0s 20ms/step - loss: 0.0980 - accuracy: 0.9888 - val_loss: 3.0068 - val_accuracy: 0.2609\n",
      "Epoch 166/200\n",
      "3/3 [==============================] - 0s 8ms/step - loss: 0.0966 - accuracy: 0.9888 - val_loss: 3.0206 - val_accuracy: 0.2609\n",
      "Epoch 167/200\n",
      "3/3 [==============================] - 0s 8ms/step - loss: 0.0946 - accuracy: 1.0000 - val_loss: 3.0465 - val_accuracy: 0.2609\n",
      "Epoch 168/200\n",
      "3/3 [==============================] - 0s 8ms/step - loss: 0.0928 - accuracy: 1.0000 - val_loss: 3.0714 - val_accuracy: 0.2609\n",
      "Epoch 169/200\n",
      "3/3 [==============================] - 0s 8ms/step - loss: 0.0919 - accuracy: 1.0000 - val_loss: 3.0917 - val_accuracy: 0.2609\n",
      "Epoch 170/200\n",
      "3/3 [==============================] - 0s 8ms/step - loss: 0.0903 - accuracy: 1.0000 - val_loss: 3.1007 - val_accuracy: 0.2609\n",
      "Epoch 171/200\n",
      "3/3 [==============================] - 0s 8ms/step - loss: 0.0887 - accuracy: 1.0000 - val_loss: 3.0955 - val_accuracy: 0.2609\n",
      "Epoch 172/200\n",
      "3/3 [==============================] - 0s 7ms/step - loss: 0.0872 - accuracy: 1.0000 - val_loss: 3.1086 - val_accuracy: 0.2609\n",
      "Epoch 173/200\n",
      "3/3 [==============================] - 0s 8ms/step - loss: 0.0857 - accuracy: 1.0000 - val_loss: 3.1211 - val_accuracy: 0.2609\n",
      "Epoch 174/200\n",
      "3/3 [==============================] - 0s 7ms/step - loss: 0.0844 - accuracy: 1.0000 - val_loss: 3.1340 - val_accuracy: 0.2174\n",
      "Epoch 175/200\n",
      "3/3 [==============================] - 0s 7ms/step - loss: 0.0830 - accuracy: 1.0000 - val_loss: 3.1507 - val_accuracy: 0.2174\n",
      "Epoch 176/200\n",
      "3/3 [==============================] - 0s 7ms/step - loss: 0.0819 - accuracy: 1.0000 - val_loss: 3.1547 - val_accuracy: 0.2174\n",
      "Epoch 177/200\n",
      "3/3 [==============================] - 0s 7ms/step - loss: 0.0807 - accuracy: 1.0000 - val_loss: 3.1519 - val_accuracy: 0.2609\n",
      "Epoch 178/200\n",
      "3/3 [==============================] - 0s 7ms/step - loss: 0.0797 - accuracy: 1.0000 - val_loss: 3.1519 - val_accuracy: 0.2609\n",
      "Epoch 179/200\n",
      "3/3 [==============================] - 0s 7ms/step - loss: 0.0783 - accuracy: 1.0000 - val_loss: 3.1476 - val_accuracy: 0.2609\n",
      "Epoch 180/200\n",
      "3/3 [==============================] - 0s 7ms/step - loss: 0.0769 - accuracy: 1.0000 - val_loss: 3.1306 - val_accuracy: 0.2609\n",
      "Epoch 181/200\n",
      "3/3 [==============================] - 0s 7ms/step - loss: 0.0758 - accuracy: 1.0000 - val_loss: 3.1119 - val_accuracy: 0.2609\n",
      "Epoch 182/200\n",
      "3/3 [==============================] - 0s 7ms/step - loss: 0.0754 - accuracy: 1.0000 - val_loss: 3.1020 - val_accuracy: 0.2609\n",
      "Epoch 183/200\n",
      "3/3 [==============================] - 0s 8ms/step - loss: 0.0747 - accuracy: 1.0000 - val_loss: 3.1124 - val_accuracy: 0.2609\n",
      "Epoch 184/200\n",
      "3/3 [==============================] - 0s 8ms/step - loss: 0.0730 - accuracy: 1.0000 - val_loss: 3.1357 - val_accuracy: 0.2609\n",
      "Epoch 185/200\n",
      "3/3 [==============================] - 0s 8ms/step - loss: 0.0711 - accuracy: 1.0000 - val_loss: 3.1650 - val_accuracy: 0.2609\n",
      "Epoch 186/200\n",
      "3/3 [==============================] - 0s 13ms/step - loss: 0.0701 - accuracy: 1.0000 - val_loss: 3.1887 - val_accuracy: 0.2609\n",
      "Epoch 187/200\n",
      "3/3 [==============================] - 0s 10ms/step - loss: 0.0694 - accuracy: 1.0000 - val_loss: 3.2129 - val_accuracy: 0.2609\n",
      "Epoch 188/200\n",
      "3/3 [==============================] - 0s 8ms/step - loss: 0.0681 - accuracy: 1.0000 - val_loss: 3.2094 - val_accuracy: 0.2174\n",
      "Epoch 189/200\n",
      "3/3 [==============================] - 0s 8ms/step - loss: 0.0669 - accuracy: 1.0000 - val_loss: 3.1933 - val_accuracy: 0.2174\n",
      "Epoch 190/200\n",
      "3/3 [==============================] - 0s 8ms/step - loss: 0.0658 - accuracy: 1.0000 - val_loss: 3.1799 - val_accuracy: 0.2609\n",
      "Epoch 191/200\n",
      "3/3 [==============================] - 0s 8ms/step - loss: 0.0645 - accuracy: 1.0000 - val_loss: 3.1682 - val_accuracy: 0.2609\n",
      "Epoch 192/200\n",
      "3/3 [==============================] - 0s 8ms/step - loss: 0.0635 - accuracy: 1.0000 - val_loss: 3.1645 - val_accuracy: 0.2609\n",
      "Epoch 193/200\n",
      "3/3 [==============================] - 0s 8ms/step - loss: 0.0625 - accuracy: 1.0000 - val_loss: 3.1678 - val_accuracy: 0.2609\n",
      "Epoch 194/200\n",
      "3/3 [==============================] - 0s 8ms/step - loss: 0.0615 - accuracy: 1.0000 - val_loss: 3.1787 - val_accuracy: 0.2609\n",
      "Epoch 195/200\n",
      "3/3 [==============================] - 0s 10ms/step - loss: 0.0606 - accuracy: 1.0000 - val_loss: 3.1910 - val_accuracy: 0.2609\n",
      "Epoch 196/200\n",
      "3/3 [==============================] - 0s 8ms/step - loss: 0.0596 - accuracy: 1.0000 - val_loss: 3.1936 - val_accuracy: 0.2609\n",
      "Epoch 197/200\n",
      "3/3 [==============================] - 0s 8ms/step - loss: 0.0586 - accuracy: 1.0000 - val_loss: 3.2000 - val_accuracy: 0.2609\n",
      "Epoch 198/200\n",
      "3/3 [==============================] - 0s 8ms/step - loss: 0.0576 - accuracy: 1.0000 - val_loss: 3.2102 - val_accuracy: 0.2174\n",
      "Epoch 199/200\n",
      "3/3 [==============================] - 0s 8ms/step - loss: 0.0571 - accuracy: 1.0000 - val_loss: 3.2285 - val_accuracy: 0.2174\n",
      "Epoch 200/200\n",
      "3/3 [==============================] - 0s 8ms/step - loss: 0.0561 - accuracy: 1.0000 - val_loss: 3.2382 - val_accuracy: 0.2174\n"
     ]
    },
    {
     "data": {
      "text/plain": [
       "<keras.src.callbacks.History at 0x159f9a550>"
      ]
     },
     "execution_count": 137,
     "metadata": {},
     "output_type": "execute_result"
    }
   ],
   "source": [
    "model.fit(X_train, y_train, epochs=200, batch_size=40, validation_split=0.2)\n"
   ]
  },
  {
   "cell_type": "markdown",
   "metadata": {},
   "source": [
    "# Evaluation du modèle"
   ]
  },
  {
   "cell_type": "code",
   "execution_count": 138,
   "metadata": {},
   "outputs": [
    {
     "name": "stdout",
     "output_type": "stream",
     "text": [
      "7/7 [==============================] - 0s 557us/step\n",
      "Accuracy: 0.49\n"
     ]
    }
   ],
   "source": [
    "y_pred_probabilities = model.predict(X_test)\n",
    "y_pred = np.argmax(y_pred_probabilities, axis=1)\n",
    "\n",
    "accuracy = accuracy_score(y_test, y_pred)\n",
    "print(f\"Accuracy: {accuracy}\")"
   ]
  },
  {
   "cell_type": "markdown",
   "metadata": {},
   "source": [
    "on a une accuracy de 0.80"
   ]
  },
  {
   "cell_type": "code",
   "execution_count": 139,
   "metadata": {},
   "outputs": [
    {
     "name": "stdout",
     "output_type": "stream",
     "text": [
      "\n",
      "Classification Report:\n",
      "              precision    recall  f1-score   support\n",
      "\n",
      "           0       0.00      0.00      0.00         8\n",
      "           1       0.61      0.68      0.64       109\n",
      "           2       0.10      0.57      0.17         7\n",
      "           3       0.91      0.26      0.41        76\n",
      "\n",
      "    accuracy                           0.49       200\n",
      "   macro avg       0.40      0.38      0.30       200\n",
      "weighted avg       0.68      0.49      0.51       200\n",
      "\n"
     ]
    }
   ],
   "source": [
    "print(\"\\nClassification Report:\")\n",
    "print(classification_report(y_test, y_pred))"
   ]
  },
  {
   "cell_type": "markdown",
   "metadata": {},
   "source": [
    "La classe 0 et la classe 2 n'ont pas du tout un bon score (0 % pour la classe 0), cela peut être du à leurs sous-reprrésentation dans le jeu de données de bases."
   ]
  }
 ],
 "metadata": {
  "kernelspec": {
   "display_name": "Python 3",
   "language": "python",
   "name": "python3"
  },
  "language_info": {
   "codemirror_mode": {
    "name": "ipython",
    "version": 3
   },
   "file_extension": ".py",
   "mimetype": "text/x-python",
   "name": "python",
   "nbconvert_exporter": "python",
   "pygments_lexer": "ipython3",
   "version": "3.9.6"
  }
 },
 "nbformat": 4,
 "nbformat_minor": 2
}
